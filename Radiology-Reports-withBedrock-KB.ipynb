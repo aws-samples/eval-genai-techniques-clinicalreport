{
 "cells": [
  {
   "cell_type": "markdown",
   "id": "632356a9-4f8a-4ef0-b855-b8b915871d4c",
   "metadata": {},
   "source": [
    "#  Building RAG-based radiology report suumarization with using Knowledge Bases for Amazon Bedrock - RetrieveAndGenerate API\n",
    "\n",
    "\n",
    "With knowledge bases, you can securely connect foundation models (FMs) in Amazon Bedrock to your company data for Retrieval Augmented Generation (RAG). Access to additional data helps the model generate more relevant, context-speciﬁc, and accurate responses without continuously retraining the FM. All information retrieved from knowledge bases comes with source attribution to improve transparency and minimize hallucinations. For more information on creating a knowledge base using console, please refer to this post.\n",
    "\n",
    "In this notebook, we will dive deep into building Radiology report summarization using RetrieveAndGenerate API provided by Knowledge Bases for Amazon Bedrock. This API will query the knowledge base to get the desired number of document chunks based on similarity search, integrate it with Large Language Model (LLM) for answering questions.\n",
    "\n",
    "Pattern\n",
    "We can implement the solution using Retreival Augmented Generation (RAG) pattern. RAG retrieves data from outside the language model (non-parametric) and augments the prompts by adding the relevant retrieved data in context. Here, we are performing RAG effectively on the knowledge base created in the previous notebook or using console.\n",
    "\n",
    "Pre-requisite\n",
    "The sample reports  must be processed and stored in knowledge base.\n",
    "\n",
    "Load the documents into the knowledge base by connecting your s3 bucket (data source).\n",
    "Knowledge base will split them into smaller chunks (based on the strategy selected), generate embeddings and store it in the associated vectore store and \n",
    "\n",
    "Notebook Walkthrough\n",
    "For our notebook we will use the RetreiveAndGenerate API provided by Knowledge Bases for Amazon Bedrock which converts user queries into embeddings, searches the knowledge base, get the relevant results, augment the custom prompt and then invoking a LLM to generate the response.\n",
    "\n",
    "\n",
    "\n",
    "Make sure right version of SDK are usec\n",
    "⚠ For this lab we need to run the notebook based on a Python 3.10 runtime with Boto3 > 1.34.79 version ⚠\n",
    "\n",
    "Setup\n",
    "Install following packages.\n"
   ]
  },
  {
   "cell_type": "code",
   "execution_count": null,
   "id": "0c010985-4f5c-44b7-b0fd-b482c198e9c6",
   "metadata": {
    "tags": []
   },
   "outputs": [],
   "source": [
    "%pip install --no-build-isolation --force-reinstall \\\n",
    "    \"boto3>=1.34.79.57\" \\\n",
    "    \"awscli>=1.29.57\" \\\n",
    "    \"botocore>=1.31.57\""
   ]
  },
  {
   "cell_type": "code",
   "execution_count": null,
   "id": "3b4d7623-7732-43d8-967f-1440521734bf",
   "metadata": {
    "tags": []
   },
   "outputs": [],
   "source": [
    "import boto3\n",
    "import pprint\n",
    "from botocore.client import Config\n",
    "\n",
    "pp = pprint.PrettyPrinter(indent=2)\n",
    "\n",
    "bedrock_config = Config(connect_timeout=120, read_timeout=120, retries={'max_attempts': 0})\n",
    "bedrock_client = boto3.client('bedrock-runtime')\n",
    "bedrock_agent_client = boto3.client(\"bedrock-agent-runtime\",\n",
    "                              config=bedrock_config)\n",
    "boto3_session = boto3.session.Session()\n",
    "region_name = boto3_session.region_name\n",
    "\n",
    "kb_id = \"XXXX\" # replace it with the Knowledge Base ID\n",
    "model_id = \"anthropic.claude-3-sonnet-20240229-v1:0\"\n",
    "region_id = region_name # replace it with the region you're running sagemaker notebook\n"
   ]
  },
  {
   "cell_type": "code",
   "execution_count": 32,
   "id": "25443d5b-d88a-49a3-b6c5-582418f0f8eb",
   "metadata": {
    "tags": []
   },
   "outputs": [],
   "source": [
    "def retrieveAndGenerate(input, kbId, sessionId=None, model_id = \"anthropic.claude-3-sonnet-20240229-v1:0\", region_id = \"us-east-1\"):\n",
    "    model_arn = f'arn:aws:bedrock:{region_id}::foundation-model/{model_id}'\n",
    "    #print(f'{model_id}')\n",
    "    promptTemplate = f\"\"\"\n",
    "    You have to generate radiology report impressions based on the following findings. Your job is to generate impression using only information from the search results.\n",
    "    Return only a single sentence and do not return the findings given.\n",
    "   \n",
    "    Findings: $query$\n",
    "                          \n",
    "    Here are the search results in numbered order:\n",
    "    $search_results$ \"\"\"\n",
    "    \n",
    "  \n",
    "    return bedrock_agent_client.retrieve_and_generate(\n",
    "        input={\n",
    "            'text': input\n",
    "        },\n",
    "        retrieveAndGenerateConfiguration={\n",
    "            'knowledgeBaseConfiguration': {\n",
    "                'generationConfiguration': {\n",
    "                    'promptTemplate': {\n",
    "                    'textPromptTemplate': promptTemplate\n",
    "                    }\n",
    "                },\n",
    "                'knowledgeBaseId': kbId,\n",
    "                'modelArn': model_arn,\n",
    "                'retrievalConfiguration': {\n",
    "                    'vectorSearchConfiguration': {\n",
    "                        'numberOfResults': 3,\n",
    "                        'overrideSearchType': 'HYBRID'\n",
    "                        }\n",
    "                }\n",
    "               \n",
    "            },\n",
    "            'type': 'KNOWLEDGE_BASE'\n",
    "            \n",
    "        },\n",
    "    )\n",
    "    "
   ]
  },
  {
   "cell_type": "code",
   "execution_count": null,
   "id": "e07fd314-fbba-40e2-ac14-a7751cf81744",
   "metadata": {
    "tags": []
   },
   "outputs": [],
   "source": [
    "query = \"Stability of the severe bilateral pleural effusion with compressive atelectasis. There is no visible pneumothorax. The tracheostomy and left-sided subclavian line is unchanged. The mediastinal and cardiac contour are stable. The nasogastric tube and feeding tube has been removed since the previous exam.\"\n",
    "response = retrieveAndGenerate(query, kb_id,model_id,region_id=region_id)\n",
    "generated_text = response['output']['text']\n",
    "pp.pprint(generated_text)"
   ]
  },
  {
   "cell_type": "code",
   "execution_count": null,
   "id": "8e0eea19-066d-463e-8349-29536c63f92a",
   "metadata": {
    "tags": []
   },
   "outputs": [],
   "source": [
    "citations = response[\"citations\"]\n",
    "contexts = []\n",
    "for citation in citations:\n",
    "    retrievedReferences = citation[\"retrievedReferences\"]\n",
    "    for reference in retrievedReferences:\n",
    "         contexts.append(reference[\"content\"][\"text\"])\n",
    "\n",
    "pp.pprint(contexts)"
   ]
  },
  {
   "cell_type": "markdown",
   "id": "b6075255-023d-45be-9746-83a4cca1e662",
   "metadata": {},
   "source": [
    "### Model Evaluation\n",
    "Dev 1"
   ]
  },
  {
   "cell_type": "code",
   "execution_count": null,
   "id": "89c1b74b-ebb0-43eb-adb5-00ced3ef2ab8",
   "metadata": {
    "tags": []
   },
   "outputs": [],
   "source": [
    "import pandas as pd\n",
    "dev1 = pd.read_csv('dev1.csv')\n",
    "dev1.head()"
   ]
  },
  {
   "cell_type": "code",
   "execution_count": null,
   "id": "ef6e8196-2402-4d42-8759-1e27353b3cd1",
   "metadata": {
    "tags": []
   },
   "outputs": [],
   "source": [
    "query_list_dev1 = dev1.iloc[:,2].to_list()\n",
    "len(query_list_dev1)"
   ]
  },
  {
   "cell_type": "code",
   "execution_count": 36,
   "id": "b26cf3bf-adc9-4244-a168-233a18608937",
   "metadata": {
    "tags": []
   },
   "outputs": [],
   "source": [
    "from botocore.exceptions import ClientError\n",
    "\n",
    "def generate_reports(query_list):\n",
    "    results = []\n",
    "    for query in query_list:\n",
    "        try:\n",
    "            generated_text =  \"\"\n",
    "            response = retrieveAndGenerate(query, kb_id,model_id,region_id=region_id)\n",
    "            generated_text = response['output']['text']\n",
    "        except ClientError as e:\n",
    "            print(f'Error generating impression bucket {e}')\n",
    "        results.append(generated_text)\n",
    "    return results\n"
   ]
  },
  {
   "cell_type": "code",
   "execution_count": null,
   "id": "bccfeb45-6507-46be-b346-a9577ec57c03",
   "metadata": {
    "tags": []
   },
   "outputs": [],
   "source": [
    "result_list_dev1 = generate_reports(query_list_dev1)"
   ]
  },
  {
   "cell_type": "code",
   "execution_count": 39,
   "id": "35a3294c-5cd3-4cd5-bbe9-cf4350ed22fe",
   "metadata": {},
   "outputs": [],
   "source": [
    "dev1['rag_claude3_impressions'] = result_list_dev1"
   ]
  },
  {
   "cell_type": "code",
   "execution_count": null,
   "id": "dcc98ba3-aafa-4281-b768-c2ae9697958b",
   "metadata": {},
   "outputs": [],
   "source": [
    "dev1['rag_claude3_impressions'] = dev1['rag_claude3_impressions'].str.replace('Impression:', '')\n",
    "dev1"
   ]
  },
  {
   "cell_type": "code",
   "execution_count": null,
   "id": "011f737b-c677-4b18-9160-ef4c6210d046",
   "metadata": {
    "tags": []
   },
   "outputs": [],
   "source": [
    " !pip install evaluate\n",
    " !pip install rouge_score"
   ]
  },
  {
   "cell_type": "code",
   "execution_count": 42,
   "id": "93cfe48d-19c5-4faf-b6fa-40d56144dbc7",
   "metadata": {
    "tags": []
   },
   "outputs": [],
   "source": [
    "dev1.to_csv(\"RAG_results/dev1_3rag_bedrock_kb.csv\", index = False)"
   ]
  },
  {
   "cell_type": "code",
   "execution_count": 43,
   "id": "948e6230-8cdf-4bb1-934b-cde127b2ce3d",
   "metadata": {
    "tags": []
   },
   "outputs": [],
   "source": [
    "import pandas as pd\n",
    "import matplotlib.pyplot as plt\n",
    "dev1 = pd.read_csv(\"RAG_results/dev1_3rag_bedrock_kb.csv\")"
   ]
  },
  {
   "cell_type": "code",
   "execution_count": null,
   "id": "711bd33c-eee4-41a0-88e2-2532261a58ad",
   "metadata": {
    "tags": []
   },
   "outputs": [],
   "source": [
    "import evaluate\n",
    "from rouge_score import rouge_scorer, scoring\n",
    "#from transformers import AutoTokenizer, BartTokenizer\n",
    "\n",
    "\n",
    "rouge_score = evaluate.load(\"rouge\") #\"/home/hd/hd_hd/hd_rk435/evaluate/metrics/rouge\")\n",
    "#tokenizer = BartTokenizer.from_pretrained(\"facebook/bart-large\")\n",
    "result_RAGClaude3_dev1 = rouge_score.compute(predictions=list(dev1['rag_claude3_impressions']), references=list(dev1[\"impression\"]), use_aggregator=True) #, use_stemmer=True) #, tokenizer=tokenizer)\n",
    "print(\"ROUGE Score for RAG Implentation with Claudev3 Model on Dev1 Set:\")\n",
    "print(result_RAGClaude3_dev1)"
   ]
  },
  {
   "cell_type": "code",
   "execution_count": null,
   "id": "92308a34-1154-401c-84c3-97cdb0cfaf50",
   "metadata": {
    "tags": []
   },
   "outputs": [],
   "source": [
    "results_RAGClaude3_dev1_all = rouge_score.compute(predictions=list(dev1['rag_claude3_impressions']), references=list(dev1[\"impression\"]), use_aggregator=False)\n",
    "results_RAGClaude3_dev1_all_df = pd.DataFrame(results_RAGClaude3_dev1_all)\n",
    "results_RAGClaude3_dev1_all_df.plot(kind='box', color = 'red')\n",
    "\n",
    "plt.savefig('RAG_dev1_KB.png', bbox_inches='tight', dpi = 300)"
   ]
  },
  {
   "cell_type": "code",
   "execution_count": null,
   "id": "5b048b8b-3530-4375-8e27-6c1ce3b80d01",
   "metadata": {
    "tags": []
   },
   "outputs": [],
   "source": [
    "results_RAGClaude3_dev1_all_df.describe()"
   ]
  },
  {
   "cell_type": "markdown",
   "id": "4699c8c3-baae-4f3d-9db1-e6647b1c58ee",
   "metadata": {},
   "source": [
    "Model Evaluation\n",
    "Dev 2"
   ]
  },
  {
   "cell_type": "code",
   "execution_count": null,
   "id": "493d02f6-496c-4575-abe6-84a7628a54ac",
   "metadata": {
    "tags": []
   },
   "outputs": [],
   "source": [
    "dev2 = pd.read_csv('dev2.csv')\n",
    "dev2.head()"
   ]
  },
  {
   "cell_type": "code",
   "execution_count": null,
   "id": "5a8e5fdf-f305-43be-97b5-fdb3cab73940",
   "metadata": {
    "tags": []
   },
   "outputs": [],
   "source": [
    "query_list_dev2 = dev2.iloc[:,2].to_list()\n",
    "len(query_list_dev2)\n",
    "result_list_dev2 = generate_reports(query_list_dev2)"
   ]
  },
  {
   "cell_type": "code",
   "execution_count": null,
   "id": "a920dd16-92c1-4ae2-834f-a4f2e2785c37",
   "metadata": {
    "tags": []
   },
   "outputs": [],
   "source": [
    "dev2['rag_claude3_impressions'] = result_list_dev2\n",
    "dev2['rag_claude3_impressions'] = dev2['rag_claude3_impressions'].str.replace('Impression:', '')\n",
    "dev2"
   ]
  },
  {
   "cell_type": "code",
   "execution_count": 52,
   "id": "ff09b1d8-23ac-4b07-9a45-12d46d3a66f5",
   "metadata": {
    "tags": []
   },
   "outputs": [],
   "source": [
    "dev2.to_csv(\"RAG_results/dev2_3rag_bedrock_kb.csv\", index = False)"
   ]
  },
  {
   "cell_type": "code",
   "execution_count": 53,
   "id": "08251e48-fad6-4c29-80be-c129ed4adf2d",
   "metadata": {
    "tags": []
   },
   "outputs": [],
   "source": [
    "import pandas as pd\n",
    "import matplotlib.pyplot as plt\n",
    "dev2 = pd.read_csv(\"RAG_results/dev2_3rag_bedrock_kb.csv\")"
   ]
  },
  {
   "cell_type": "code",
   "execution_count": null,
   "id": "b7ee1821-3e7e-4e11-9d11-2ae76bcd2785",
   "metadata": {
    "tags": []
   },
   "outputs": [],
   "source": [
    "import evaluate\n",
    "from rouge_score import rouge_scorer, scoring\n",
    "#from transformers import AutoTokenizer, BartTokenizer\n",
    "\n",
    "\n",
    "rouge_score = evaluate.load(\"rouge\") #\"/home/hd/hd_hd/hd_rk435/evaluate/metrics/rouge\")\n",
    "#tokenizer = BartTokenizer.from_pretrained(\"facebook/bart-large\")\n",
    "result_RAGClaude3_dev2 = rouge_score.compute(predictions=list(dev2['rag_claude3_impressions']), references=list(dev1[\"impression\"]), use_aggregator=True) #, use_stemmer=True) #, tokenizer=tokenizer)\n",
    "print(\"ROUGE Score for RAG Implentation with Claudev3 Model on Dev2 Set:\")\n",
    "print(result_RAGClaude3_dev2)"
   ]
  },
  {
   "cell_type": "code",
   "execution_count": null,
   "id": "37f71967-8f39-4bfa-a195-87381676e043",
   "metadata": {
    "tags": []
   },
   "outputs": [],
   "source": [
    "results_RAGClaude3_dev2_all = rouge_score.compute(predictions=list(dev2['rag_claude3_impressions']), references=list(dev2[\"impression\"]), use_aggregator=False)\n",
    "results_RAGClaude3_dev2_all_df = pd.DataFrame(results_RAGClaude3_dev2_all)\n",
    "results_RAGClaude3_dev2_all_df.plot(kind='box', color = 'red')\n",
    "\n",
    "plt.savefig('RAG_dev2_KB.png', bbox_inches='tight', dpi = 300)"
   ]
  },
  {
   "cell_type": "code",
   "execution_count": null,
   "id": "0a2b5a68-7f2b-4868-80b0-37b74a439168",
   "metadata": {
    "tags": []
   },
   "outputs": [],
   "source": [
    "results_RAGClaude3_dev2_all_df.describe()"
   ]
  },
  {
   "cell_type": "code",
   "execution_count": null,
   "id": "565282d6-e05e-472b-82e4-564541f62595",
   "metadata": {},
   "outputs": [],
   "source": []
  }
 ],
 "metadata": {
  "availableInstances": [
   {
    "_defaultOrder": 0,
    "_isFastLaunch": true,
    "category": "General purpose",
    "gpuNum": 0,
    "hideHardwareSpecs": false,
    "memoryGiB": 4,
    "name": "ml.t3.medium",
    "vcpuNum": 2
   },
   {
    "_defaultOrder": 1,
    "_isFastLaunch": false,
    "category": "General purpose",
    "gpuNum": 0,
    "hideHardwareSpecs": false,
    "memoryGiB": 8,
    "name": "ml.t3.large",
    "vcpuNum": 2
   },
   {
    "_defaultOrder": 2,
    "_isFastLaunch": false,
    "category": "General purpose",
    "gpuNum": 0,
    "hideHardwareSpecs": false,
    "memoryGiB": 16,
    "name": "ml.t3.xlarge",
    "vcpuNum": 4
   },
   {
    "_defaultOrder": 3,
    "_isFastLaunch": false,
    "category": "General purpose",
    "gpuNum": 0,
    "hideHardwareSpecs": false,
    "memoryGiB": 32,
    "name": "ml.t3.2xlarge",
    "vcpuNum": 8
   },
   {
    "_defaultOrder": 4,
    "_isFastLaunch": true,
    "category": "General purpose",
    "gpuNum": 0,
    "hideHardwareSpecs": false,
    "memoryGiB": 8,
    "name": "ml.m5.large",
    "vcpuNum": 2
   },
   {
    "_defaultOrder": 5,
    "_isFastLaunch": false,
    "category": "General purpose",
    "gpuNum": 0,
    "hideHardwareSpecs": false,
    "memoryGiB": 16,
    "name": "ml.m5.xlarge",
    "vcpuNum": 4
   },
   {
    "_defaultOrder": 6,
    "_isFastLaunch": false,
    "category": "General purpose",
    "gpuNum": 0,
    "hideHardwareSpecs": false,
    "memoryGiB": 32,
    "name": "ml.m5.2xlarge",
    "vcpuNum": 8
   },
   {
    "_defaultOrder": 7,
    "_isFastLaunch": false,
    "category": "General purpose",
    "gpuNum": 0,
    "hideHardwareSpecs": false,
    "memoryGiB": 64,
    "name": "ml.m5.4xlarge",
    "vcpuNum": 16
   },
   {
    "_defaultOrder": 8,
    "_isFastLaunch": false,
    "category": "General purpose",
    "gpuNum": 0,
    "hideHardwareSpecs": false,
    "memoryGiB": 128,
    "name": "ml.m5.8xlarge",
    "vcpuNum": 32
   },
   {
    "_defaultOrder": 9,
    "_isFastLaunch": false,
    "category": "General purpose",
    "gpuNum": 0,
    "hideHardwareSpecs": false,
    "memoryGiB": 192,
    "name": "ml.m5.12xlarge",
    "vcpuNum": 48
   },
   {
    "_defaultOrder": 10,
    "_isFastLaunch": false,
    "category": "General purpose",
    "gpuNum": 0,
    "hideHardwareSpecs": false,
    "memoryGiB": 256,
    "name": "ml.m5.16xlarge",
    "vcpuNum": 64
   },
   {
    "_defaultOrder": 11,
    "_isFastLaunch": false,
    "category": "General purpose",
    "gpuNum": 0,
    "hideHardwareSpecs": false,
    "memoryGiB": 384,
    "name": "ml.m5.24xlarge",
    "vcpuNum": 96
   },
   {
    "_defaultOrder": 12,
    "_isFastLaunch": false,
    "category": "General purpose",
    "gpuNum": 0,
    "hideHardwareSpecs": false,
    "memoryGiB": 8,
    "name": "ml.m5d.large",
    "vcpuNum": 2
   },
   {
    "_defaultOrder": 13,
    "_isFastLaunch": false,
    "category": "General purpose",
    "gpuNum": 0,
    "hideHardwareSpecs": false,
    "memoryGiB": 16,
    "name": "ml.m5d.xlarge",
    "vcpuNum": 4
   },
   {
    "_defaultOrder": 14,
    "_isFastLaunch": false,
    "category": "General purpose",
    "gpuNum": 0,
    "hideHardwareSpecs": false,
    "memoryGiB": 32,
    "name": "ml.m5d.2xlarge",
    "vcpuNum": 8
   },
   {
    "_defaultOrder": 15,
    "_isFastLaunch": false,
    "category": "General purpose",
    "gpuNum": 0,
    "hideHardwareSpecs": false,
    "memoryGiB": 64,
    "name": "ml.m5d.4xlarge",
    "vcpuNum": 16
   },
   {
    "_defaultOrder": 16,
    "_isFastLaunch": false,
    "category": "General purpose",
    "gpuNum": 0,
    "hideHardwareSpecs": false,
    "memoryGiB": 128,
    "name": "ml.m5d.8xlarge",
    "vcpuNum": 32
   },
   {
    "_defaultOrder": 17,
    "_isFastLaunch": false,
    "category": "General purpose",
    "gpuNum": 0,
    "hideHardwareSpecs": false,
    "memoryGiB": 192,
    "name": "ml.m5d.12xlarge",
    "vcpuNum": 48
   },
   {
    "_defaultOrder": 18,
    "_isFastLaunch": false,
    "category": "General purpose",
    "gpuNum": 0,
    "hideHardwareSpecs": false,
    "memoryGiB": 256,
    "name": "ml.m5d.16xlarge",
    "vcpuNum": 64
   },
   {
    "_defaultOrder": 19,
    "_isFastLaunch": false,
    "category": "General purpose",
    "gpuNum": 0,
    "hideHardwareSpecs": false,
    "memoryGiB": 384,
    "name": "ml.m5d.24xlarge",
    "vcpuNum": 96
   },
   {
    "_defaultOrder": 20,
    "_isFastLaunch": false,
    "category": "General purpose",
    "gpuNum": 0,
    "hideHardwareSpecs": true,
    "memoryGiB": 0,
    "name": "ml.geospatial.interactive",
    "supportedImageNames": [
     "sagemaker-geospatial-v1-0"
    ],
    "vcpuNum": 0
   },
   {
    "_defaultOrder": 21,
    "_isFastLaunch": true,
    "category": "Compute optimized",
    "gpuNum": 0,
    "hideHardwareSpecs": false,
    "memoryGiB": 4,
    "name": "ml.c5.large",
    "vcpuNum": 2
   },
   {
    "_defaultOrder": 22,
    "_isFastLaunch": false,
    "category": "Compute optimized",
    "gpuNum": 0,
    "hideHardwareSpecs": false,
    "memoryGiB": 8,
    "name": "ml.c5.xlarge",
    "vcpuNum": 4
   },
   {
    "_defaultOrder": 23,
    "_isFastLaunch": false,
    "category": "Compute optimized",
    "gpuNum": 0,
    "hideHardwareSpecs": false,
    "memoryGiB": 16,
    "name": "ml.c5.2xlarge",
    "vcpuNum": 8
   },
   {
    "_defaultOrder": 24,
    "_isFastLaunch": false,
    "category": "Compute optimized",
    "gpuNum": 0,
    "hideHardwareSpecs": false,
    "memoryGiB": 32,
    "name": "ml.c5.4xlarge",
    "vcpuNum": 16
   },
   {
    "_defaultOrder": 25,
    "_isFastLaunch": false,
    "category": "Compute optimized",
    "gpuNum": 0,
    "hideHardwareSpecs": false,
    "memoryGiB": 72,
    "name": "ml.c5.9xlarge",
    "vcpuNum": 36
   },
   {
    "_defaultOrder": 26,
    "_isFastLaunch": false,
    "category": "Compute optimized",
    "gpuNum": 0,
    "hideHardwareSpecs": false,
    "memoryGiB": 96,
    "name": "ml.c5.12xlarge",
    "vcpuNum": 48
   },
   {
    "_defaultOrder": 27,
    "_isFastLaunch": false,
    "category": "Compute optimized",
    "gpuNum": 0,
    "hideHardwareSpecs": false,
    "memoryGiB": 144,
    "name": "ml.c5.18xlarge",
    "vcpuNum": 72
   },
   {
    "_defaultOrder": 28,
    "_isFastLaunch": false,
    "category": "Compute optimized",
    "gpuNum": 0,
    "hideHardwareSpecs": false,
    "memoryGiB": 192,
    "name": "ml.c5.24xlarge",
    "vcpuNum": 96
   },
   {
    "_defaultOrder": 29,
    "_isFastLaunch": true,
    "category": "Accelerated computing",
    "gpuNum": 1,
    "hideHardwareSpecs": false,
    "memoryGiB": 16,
    "name": "ml.g4dn.xlarge",
    "vcpuNum": 4
   },
   {
    "_defaultOrder": 30,
    "_isFastLaunch": false,
    "category": "Accelerated computing",
    "gpuNum": 1,
    "hideHardwareSpecs": false,
    "memoryGiB": 32,
    "name": "ml.g4dn.2xlarge",
    "vcpuNum": 8
   },
   {
    "_defaultOrder": 31,
    "_isFastLaunch": false,
    "category": "Accelerated computing",
    "gpuNum": 1,
    "hideHardwareSpecs": false,
    "memoryGiB": 64,
    "name": "ml.g4dn.4xlarge",
    "vcpuNum": 16
   },
   {
    "_defaultOrder": 32,
    "_isFastLaunch": false,
    "category": "Accelerated computing",
    "gpuNum": 1,
    "hideHardwareSpecs": false,
    "memoryGiB": 128,
    "name": "ml.g4dn.8xlarge",
    "vcpuNum": 32
   },
   {
    "_defaultOrder": 33,
    "_isFastLaunch": false,
    "category": "Accelerated computing",
    "gpuNum": 4,
    "hideHardwareSpecs": false,
    "memoryGiB": 192,
    "name": "ml.g4dn.12xlarge",
    "vcpuNum": 48
   },
   {
    "_defaultOrder": 34,
    "_isFastLaunch": false,
    "category": "Accelerated computing",
    "gpuNum": 1,
    "hideHardwareSpecs": false,
    "memoryGiB": 256,
    "name": "ml.g4dn.16xlarge",
    "vcpuNum": 64
   },
   {
    "_defaultOrder": 35,
    "_isFastLaunch": false,
    "category": "Accelerated computing",
    "gpuNum": 1,
    "hideHardwareSpecs": false,
    "memoryGiB": 61,
    "name": "ml.p3.2xlarge",
    "vcpuNum": 8
   },
   {
    "_defaultOrder": 36,
    "_isFastLaunch": false,
    "category": "Accelerated computing",
    "gpuNum": 4,
    "hideHardwareSpecs": false,
    "memoryGiB": 244,
    "name": "ml.p3.8xlarge",
    "vcpuNum": 32
   },
   {
    "_defaultOrder": 37,
    "_isFastLaunch": false,
    "category": "Accelerated computing",
    "gpuNum": 8,
    "hideHardwareSpecs": false,
    "memoryGiB": 488,
    "name": "ml.p3.16xlarge",
    "vcpuNum": 64
   },
   {
    "_defaultOrder": 38,
    "_isFastLaunch": false,
    "category": "Accelerated computing",
    "gpuNum": 8,
    "hideHardwareSpecs": false,
    "memoryGiB": 768,
    "name": "ml.p3dn.24xlarge",
    "vcpuNum": 96
   },
   {
    "_defaultOrder": 39,
    "_isFastLaunch": false,
    "category": "Memory Optimized",
    "gpuNum": 0,
    "hideHardwareSpecs": false,
    "memoryGiB": 16,
    "name": "ml.r5.large",
    "vcpuNum": 2
   },
   {
    "_defaultOrder": 40,
    "_isFastLaunch": false,
    "category": "Memory Optimized",
    "gpuNum": 0,
    "hideHardwareSpecs": false,
    "memoryGiB": 32,
    "name": "ml.r5.xlarge",
    "vcpuNum": 4
   },
   {
    "_defaultOrder": 41,
    "_isFastLaunch": false,
    "category": "Memory Optimized",
    "gpuNum": 0,
    "hideHardwareSpecs": false,
    "memoryGiB": 64,
    "name": "ml.r5.2xlarge",
    "vcpuNum": 8
   },
   {
    "_defaultOrder": 42,
    "_isFastLaunch": false,
    "category": "Memory Optimized",
    "gpuNum": 0,
    "hideHardwareSpecs": false,
    "memoryGiB": 128,
    "name": "ml.r5.4xlarge",
    "vcpuNum": 16
   },
   {
    "_defaultOrder": 43,
    "_isFastLaunch": false,
    "category": "Memory Optimized",
    "gpuNum": 0,
    "hideHardwareSpecs": false,
    "memoryGiB": 256,
    "name": "ml.r5.8xlarge",
    "vcpuNum": 32
   },
   {
    "_defaultOrder": 44,
    "_isFastLaunch": false,
    "category": "Memory Optimized",
    "gpuNum": 0,
    "hideHardwareSpecs": false,
    "memoryGiB": 384,
    "name": "ml.r5.12xlarge",
    "vcpuNum": 48
   },
   {
    "_defaultOrder": 45,
    "_isFastLaunch": false,
    "category": "Memory Optimized",
    "gpuNum": 0,
    "hideHardwareSpecs": false,
    "memoryGiB": 512,
    "name": "ml.r5.16xlarge",
    "vcpuNum": 64
   },
   {
    "_defaultOrder": 46,
    "_isFastLaunch": false,
    "category": "Memory Optimized",
    "gpuNum": 0,
    "hideHardwareSpecs": false,
    "memoryGiB": 768,
    "name": "ml.r5.24xlarge",
    "vcpuNum": 96
   },
   {
    "_defaultOrder": 47,
    "_isFastLaunch": false,
    "category": "Accelerated computing",
    "gpuNum": 1,
    "hideHardwareSpecs": false,
    "memoryGiB": 16,
    "name": "ml.g5.xlarge",
    "vcpuNum": 4
   },
   {
    "_defaultOrder": 48,
    "_isFastLaunch": false,
    "category": "Accelerated computing",
    "gpuNum": 1,
    "hideHardwareSpecs": false,
    "memoryGiB": 32,
    "name": "ml.g5.2xlarge",
    "vcpuNum": 8
   },
   {
    "_defaultOrder": 49,
    "_isFastLaunch": false,
    "category": "Accelerated computing",
    "gpuNum": 1,
    "hideHardwareSpecs": false,
    "memoryGiB": 64,
    "name": "ml.g5.4xlarge",
    "vcpuNum": 16
   },
   {
    "_defaultOrder": 50,
    "_isFastLaunch": false,
    "category": "Accelerated computing",
    "gpuNum": 1,
    "hideHardwareSpecs": false,
    "memoryGiB": 128,
    "name": "ml.g5.8xlarge",
    "vcpuNum": 32
   },
   {
    "_defaultOrder": 51,
    "_isFastLaunch": false,
    "category": "Accelerated computing",
    "gpuNum": 1,
    "hideHardwareSpecs": false,
    "memoryGiB": 256,
    "name": "ml.g5.16xlarge",
    "vcpuNum": 64
   },
   {
    "_defaultOrder": 52,
    "_isFastLaunch": false,
    "category": "Accelerated computing",
    "gpuNum": 4,
    "hideHardwareSpecs": false,
    "memoryGiB": 192,
    "name": "ml.g5.12xlarge",
    "vcpuNum": 48
   },
   {
    "_defaultOrder": 53,
    "_isFastLaunch": false,
    "category": "Accelerated computing",
    "gpuNum": 4,
    "hideHardwareSpecs": false,
    "memoryGiB": 384,
    "name": "ml.g5.24xlarge",
    "vcpuNum": 96
   },
   {
    "_defaultOrder": 54,
    "_isFastLaunch": false,
    "category": "Accelerated computing",
    "gpuNum": 8,
    "hideHardwareSpecs": false,
    "memoryGiB": 768,
    "name": "ml.g5.48xlarge",
    "vcpuNum": 192
   },
   {
    "_defaultOrder": 55,
    "_isFastLaunch": false,
    "category": "Accelerated computing",
    "gpuNum": 8,
    "hideHardwareSpecs": false,
    "memoryGiB": 1152,
    "name": "ml.p4d.24xlarge",
    "vcpuNum": 96
   },
   {
    "_defaultOrder": 56,
    "_isFastLaunch": false,
    "category": "Accelerated computing",
    "gpuNum": 8,
    "hideHardwareSpecs": false,
    "memoryGiB": 1152,
    "name": "ml.p4de.24xlarge",
    "vcpuNum": 96
   },
   {
    "_defaultOrder": 57,
    "_isFastLaunch": false,
    "category": "Accelerated computing",
    "gpuNum": 0,
    "hideHardwareSpecs": false,
    "memoryGiB": 32,
    "name": "ml.trn1.2xlarge",
    "vcpuNum": 8
   },
   {
    "_defaultOrder": 58,
    "_isFastLaunch": false,
    "category": "Accelerated computing",
    "gpuNum": 0,
    "hideHardwareSpecs": false,
    "memoryGiB": 512,
    "name": "ml.trn1.32xlarge",
    "vcpuNum": 128
   },
   {
    "_defaultOrder": 59,
    "_isFastLaunch": false,
    "category": "Accelerated computing",
    "gpuNum": 0,
    "hideHardwareSpecs": false,
    "memoryGiB": 512,
    "name": "ml.trn1n.32xlarge",
    "vcpuNum": 128
   }
  ],
  "instance_type": "ml.c5.large",
  "kernelspec": {
   "display_name": "Python 3 (Data Science 3.0)",
   "language": "python",
   "name": "python3__SAGEMAKER_INTERNAL__arn:aws:sagemaker:us-east-1:081325390199:image/sagemaker-data-science-310-v1"
  },
  "language_info": {
   "codemirror_mode": {
    "name": "ipython",
    "version": 3
   },
   "file_extension": ".py",
   "mimetype": "text/x-python",
   "name": "python",
   "nbconvert_exporter": "python",
   "pygments_lexer": "ipython3",
   "version": "3.10.6"
  }
 },
 "nbformat": 4,
 "nbformat_minor": 5
}

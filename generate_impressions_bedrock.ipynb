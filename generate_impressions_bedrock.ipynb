{
 "cells": [
  {
   "cell_type": "code",
   "execution_count": null,
   "id": "3834ff58-b706-4cd6-af80-6eae7bc655f8",
   "metadata": {
    "scrolled": true,
    "tags": []
   },
   "outputs": [],
   "source": [
    "# !pip install --upgrade boto3 \n",
    "# !pip install evaluate\n",
    "# !pip install rouge_score"
   ]
  },
  {
   "cell_type": "code",
   "execution_count": null,
   "id": "9f031cd7-2e50-4f47-9738-ed03af49704f",
   "metadata": {
    "tags": []
   },
   "outputs": [],
   "source": [
    "import boto3\n",
    "import json\n",
    "import re\n",
    "import pandas as pd\n",
    "import evaluate\n",
    "from tqdm import tqdm\n",
    "from rouge_score import rouge_scorer, scoring"
   ]
  },
  {
   "cell_type": "code",
   "execution_count": null,
   "id": "d2598b3e-128c-4ca4-a647-f6b182230c7a",
   "metadata": {
    "tags": []
   },
   "outputs": [],
   "source": [
    "bedrock = boto3.client(service_name=\"bedrock-runtime\")"
   ]
  },
  {
   "cell_type": "code",
   "execution_count": null,
   "id": "d3e0c185-5a7f-4560-84b4-ceb9c58637f9",
   "metadata": {
    "tags": []
   },
   "outputs": [],
   "source": [
    "def predict(prompt_string, context):\n",
    "    body = json.dumps(\n",
    "    {\n",
    "        \"prompt\": prompt_string.format(context),\n",
    "        \"max_tokens_to_sample\": 500,\n",
    "    }\n",
    "    )\n",
    "\n",
    "    response = bedrock.invoke_model(body=body, modelId=\"anthropic.claude-v2\")    \n",
    "    response_body = json.loads(response.get(\"body\").read())\n",
    "    impression = re.findall(\"<impression>(.*?)</impression>\", response_body.get(\"completion\"), re.DOTALL)\n",
    "    # print(response_body.get(\"completion\"))\n",
    "    if impression == []:\n",
    "        return response_body.get(\"completion\")\n",
    "    return impression[0]"
   ]
  },
  {
   "cell_type": "code",
   "execution_count": null,
   "id": "580e3ce2-96b4-4ac9-8d46-52eb98f44473",
   "metadata": {
    "tags": []
   },
   "outputs": [],
   "source": [
    "def generate_impressions(prompt, filename):\n",
    "    dev_df = pd.read_csv(filename)\n",
    "    print(f\"num rows: {len(dev_df)}\")\n",
    "    \n",
    "    output_bedrock = []\n",
    "    for index, row in tqdm(dev_df.iterrows(), total=dev_df.shape[0]):\n",
    "        generated_impression = predict(prompt, row['findings'])\n",
    "        # print(f\"Predicted: {generated_impression}, \\nGT: {row['impression']}\")\n",
    "        output_bedrock.append(generated_impression)\n",
    "        # break\n",
    "    \n",
    "    dev_df['claude-v2-generated-impressions'] = output_bedrock    \n",
    "    return dev_df"
   ]
  },
  {
   "cell_type": "code",
   "execution_count": null,
   "id": "f5514f66-9774-4e8f-b1f6-7d5ce763a8c4",
   "metadata": {
    "tags": []
   },
   "outputs": [],
   "source": [
    "def calculate_rouge_scores(dev_df, prompt, filename):\n",
    "    print('PROMPT used:\\n', prompt)\n",
    "    print(\"-\"*50)\n",
    "    rouge_score = evaluate.load(\"rouge\") \n",
    "    result_pretrained_dev1 = rouge_score.compute(predictions=list(dev_df[\"claude-v2-generated-impressions\"]), references=list(dev_df[\"impression\"]))\n",
    "    print(\"ROUGE Score for claude-v2 model on \", filename)\n",
    "    print(result_pretrained_dev1)\n",
    "    print(\"-\"*50)"
   ]
  },
  {
   "cell_type": "markdown",
   "id": "59c4a01b-35ba-46f5-b658-8044700a7298",
   "metadata": {
    "tags": []
   },
   "source": [
    "## Zero shot prompting"
   ]
  },
  {
   "cell_type": "code",
   "execution_count": null,
   "id": "66f76e27-c89d-48a9-bc35-7a605a1567a0",
   "metadata": {
    "tags": []
   },
   "outputs": [],
   "source": [
    "# prompt_zero_shot = f\"\"\"Human: Generate a new short impression from the following Radiology findings section using medical vocabulary and output it within <impression> tags. Findings: {context}\n",
    "\n",
    "# Assistant:\"\"\"\n",
    "\n",
    "prompt_zero_shot = \"\"\"Human: Generate radiology report impressions based on the following findings and output it within <impression> tags. Findings: {}\n",
    "\n",
    "Assistant:\"\"\""
   ]
  },
  {
   "cell_type": "markdown",
   "id": "72e02b00-f8b6-4e70-93a8-46a474344ae6",
   "metadata": {},
   "source": [
    "#### generate impressions for dev1_MIMICXR.csv"
   ]
  },
  {
   "cell_type": "code",
   "execution_count": null,
   "id": "1519b0f0-4fef-42a2-be7b-22a5c4d9608b",
   "metadata": {
    "scrolled": true,
    "tags": []
   },
   "outputs": [],
   "source": [
    "filename='dev1_MIMICXR.csv'\n",
    "\n",
    "dev1_df_zero_shot = generate_impressions(prompt_zero_shot, filename)"
   ]
  },
  {
   "cell_type": "markdown",
   "id": "5a2fe003-3b01-4926-a4c1-17a6b1b443d8",
   "metadata": {},
   "source": [
    "##### ROUGE Score Computation for dev1_MIMICXR.csv"
   ]
  },
  {
   "cell_type": "code",
   "execution_count": null,
   "id": "298b2f5a-3d51-424f-a183-b278eade9890",
   "metadata": {
    "tags": []
   },
   "outputs": [],
   "source": [
    "calculate_rouge_scores(dev1_df_zero_shot, prompt=prompt_zero_shot, filename='dev1_MIMICXR.csv')"
   ]
  },
  {
   "cell_type": "markdown",
   "id": "54d52c9c-69c5-4593-b383-baa665d6d2d8",
   "metadata": {},
   "source": [
    "#### generate impressions for dev2_Indiana.csv"
   ]
  },
  {
   "cell_type": "code",
   "execution_count": null,
   "id": "2d592307-60a5-4b1a-9688-2b4c11fe9a34",
   "metadata": {
    "tags": []
   },
   "outputs": [],
   "source": [
    "filename='dev2_Indiana.csv'\n",
    "\n",
    "dev2_df_zero_shot = generate_impressions(prompt_zero_shot, filename)"
   ]
  },
  {
   "cell_type": "markdown",
   "id": "b2b34c59-064f-465f-aaf1-462dbd341cdf",
   "metadata": {},
   "source": [
    "##### ROUGE Score Computation for dev2_Indiana.csv"
   ]
  },
  {
   "cell_type": "code",
   "execution_count": null,
   "id": "9ffde67c-dca9-4c66-8dfe-afc5e1973dcd",
   "metadata": {
    "tags": []
   },
   "outputs": [],
   "source": [
    "calculate_rouge_scores(dev2_df_zero_shot, prompt=prompt_zero_shot, filename='dev2_Indiana.csv')"
   ]
  },
  {
   "cell_type": "markdown",
   "id": "76347621-d11c-4c19-b018-d0cdd06a1f57",
   "metadata": {},
   "source": [
    "## Few-shot prompting"
   ]
  },
  {
   "cell_type": "code",
   "execution_count": null,
   "id": "61a0621b-c828-4830-98a1-3ae4ecdf26f6",
   "metadata": {
    "tags": []
   },
   "outputs": [],
   "source": [
    "examples = [\n",
    "    {\n",
    "        \"findings\": 'Heart size is normal. No focal airspace consolidations. No pneumothorax or effusion. No acute osseous findings.',\n",
    "        \"impression\": 'No acute cardiopulmonary findings'\n",
    "    }, \n",
    "    {\n",
    "        \"findings\": 'The lungs are clear. There is no pleural effusion or pneumothorax. There is no evidence for mass lung apices. The heart is normal. There are atherosclerotic changes of the aorta. The skeletal structures are unremarkable.',\n",
    "        \"impression\": 'No acute pulmonary disease. No evidence for apical mass'\n",
    "    }, \n",
    "    {\n",
    "        \"findings\": 'The lungs are clear, and without focal airspace opacity. The cardiomediastinal silhouette is normal in size and contour, and stable. There is no pneumothorax or large pleural effusion.',\n",
    "        \"impression\": 'No acute cardiopulmonary abnormality'\n",
    "    }, \n",
    "    {\n",
    "        \"findings\": 'Heart size and pulmonary vascularity appear within normal limits. Lungs are free of focal airspace disease. No pleural effusion or pneumothorax is seen.',\n",
    "        \"impression\": 'No evidence of active disease'\n",
    "    }, \n",
    "    {\n",
    "        \"findings\": 'The lungs appear clear. The heart and pulmonary ____ are normal. The pleural spaces are clear. Mediastinal contours are normal.',\n",
    "        \"impression\": 'No acute acute cardiopulmonary disease.'\n",
    "    }\n",
    "]\n",
    "\n",
    "examples_string = ''\n",
    "for ex in examples:\n",
    "    examples_string += f\"\"\"H:<findings>{ex['findings']}</findings>\n",
    "    \n",
    "A:<impression>{ex['impression']}</impression>\\n\"\"\"\n",
    "    \n",
    "    \n",
    "prompt_few_shot = \"\"\"Human: Generate radiology report impressions based on the following findings. Findings: \n",
    "<findings>{}</findings>\n",
    "        \n",
    "Here are a few examples:\n",
    "<examples>\n",
    "\"\"\" + examples_string + \"\"\"\n",
    "</examples>\n",
    "\n",
    "Assistant:\"\"\""
   ]
  },
  {
   "cell_type": "markdown",
   "id": "bb61a7ee-76b6-440a-bd48-9f085521a4e8",
   "metadata": {},
   "source": [
    "#### generate impressions for dev1_MIMICXR.csv"
   ]
  },
  {
   "cell_type": "code",
   "execution_count": null,
   "id": "d7e5f084-9286-440b-9216-da5ed7396acf",
   "metadata": {
    "tags": []
   },
   "outputs": [],
   "source": [
    "filename='dev1_MIMICXR.csv'\n",
    "\n",
    "dev1_df_few_shot = generate_impressions(prompt_few_shot, filename)"
   ]
  },
  {
   "cell_type": "markdown",
   "id": "435b14f5-d6dd-4560-afc9-63ad4593b9cb",
   "metadata": {},
   "source": [
    "##### ROUGE Score Computation for dev1_MIMICXR.csv"
   ]
  },
  {
   "cell_type": "code",
   "execution_count": null,
   "id": "63c8ca0a-81d5-425f-a14e-ff367cdd7785",
   "metadata": {
    "tags": []
   },
   "outputs": [],
   "source": [
    "calculate_rouge_scores(dev1_df_few_shot, prompt=prompt_few_shot, filename='dev1_MIMICXR.csv')"
   ]
  },
  {
   "cell_type": "markdown",
   "id": "11742619-4340-4185-8d95-c05086d18c44",
   "metadata": {},
   "source": [
    "#### generate impressions for dev1_MIMICXR.csv"
   ]
  },
  {
   "cell_type": "code",
   "execution_count": null,
   "id": "9c2b281f-8f4f-403b-8581-fd6e52971225",
   "metadata": {
    "tags": []
   },
   "outputs": [],
   "source": [
    "filename='dev2_Indiana.csv'\n",
    "\n",
    "dev2_df_few_shot = generate_impressions(prompt_few_shot, filename)"
   ]
  },
  {
   "cell_type": "markdown",
   "id": "16d84292-5656-46e1-a36d-9191ca02b4bb",
   "metadata": {},
   "source": [
    "##### ROUGE Score Computation for dev1_MIMICXR.csv"
   ]
  },
  {
   "cell_type": "code",
   "execution_count": null,
   "id": "d0a90da1-982b-48ae-906b-a97459fd97e4",
   "metadata": {
    "tags": []
   },
   "outputs": [],
   "source": [
    "calculate_rouge_scores(dev2_df_few_shot, prompt=prompt_few_shot, filename='dev2_Indiana.csv')"
   ]
  }
 ],
 "metadata": {
  "availableInstances": [
   {
    "_defaultOrder": 0,
    "_isFastLaunch": true,
    "category": "General purpose",
    "gpuNum": 0,
    "hideHardwareSpecs": false,
    "memoryGiB": 4,
    "name": "ml.t3.medium",
    "vcpuNum": 2
   },
   {
    "_defaultOrder": 1,
    "_isFastLaunch": false,
    "category": "General purpose",
    "gpuNum": 0,
    "hideHardwareSpecs": false,
    "memoryGiB": 8,
    "name": "ml.t3.large",
    "vcpuNum": 2
   },
   {
    "_defaultOrder": 2,
    "_isFastLaunch": false,
    "category": "General purpose",
    "gpuNum": 0,
    "hideHardwareSpecs": false,
    "memoryGiB": 16,
    "name": "ml.t3.xlarge",
    "vcpuNum": 4
   },
   {
    "_defaultOrder": 3,
    "_isFastLaunch": false,
    "category": "General purpose",
    "gpuNum": 0,
    "hideHardwareSpecs": false,
    "memoryGiB": 32,
    "name": "ml.t3.2xlarge",
    "vcpuNum": 8
   },
   {
    "_defaultOrder": 4,
    "_isFastLaunch": true,
    "category": "General purpose",
    "gpuNum": 0,
    "hideHardwareSpecs": false,
    "memoryGiB": 8,
    "name": "ml.m5.large",
    "vcpuNum": 2
   },
   {
    "_defaultOrder": 5,
    "_isFastLaunch": false,
    "category": "General purpose",
    "gpuNum": 0,
    "hideHardwareSpecs": false,
    "memoryGiB": 16,
    "name": "ml.m5.xlarge",
    "vcpuNum": 4
   },
   {
    "_defaultOrder": 6,
    "_isFastLaunch": false,
    "category": "General purpose",
    "gpuNum": 0,
    "hideHardwareSpecs": false,
    "memoryGiB": 32,
    "name": "ml.m5.2xlarge",
    "vcpuNum": 8
   },
   {
    "_defaultOrder": 7,
    "_isFastLaunch": false,
    "category": "General purpose",
    "gpuNum": 0,
    "hideHardwareSpecs": false,
    "memoryGiB": 64,
    "name": "ml.m5.4xlarge",
    "vcpuNum": 16
   },
   {
    "_defaultOrder": 8,
    "_isFastLaunch": false,
    "category": "General purpose",
    "gpuNum": 0,
    "hideHardwareSpecs": false,
    "memoryGiB": 128,
    "name": "ml.m5.8xlarge",
    "vcpuNum": 32
   },
   {
    "_defaultOrder": 9,
    "_isFastLaunch": false,
    "category": "General purpose",
    "gpuNum": 0,
    "hideHardwareSpecs": false,
    "memoryGiB": 192,
    "name": "ml.m5.12xlarge",
    "vcpuNum": 48
   },
   {
    "_defaultOrder": 10,
    "_isFastLaunch": false,
    "category": "General purpose",
    "gpuNum": 0,
    "hideHardwareSpecs": false,
    "memoryGiB": 256,
    "name": "ml.m5.16xlarge",
    "vcpuNum": 64
   },
   {
    "_defaultOrder": 11,
    "_isFastLaunch": false,
    "category": "General purpose",
    "gpuNum": 0,
    "hideHardwareSpecs": false,
    "memoryGiB": 384,
    "name": "ml.m5.24xlarge",
    "vcpuNum": 96
   },
   {
    "_defaultOrder": 12,
    "_isFastLaunch": false,
    "category": "General purpose",
    "gpuNum": 0,
    "hideHardwareSpecs": false,
    "memoryGiB": 8,
    "name": "ml.m5d.large",
    "vcpuNum": 2
   },
   {
    "_defaultOrder": 13,
    "_isFastLaunch": false,
    "category": "General purpose",
    "gpuNum": 0,
    "hideHardwareSpecs": false,
    "memoryGiB": 16,
    "name": "ml.m5d.xlarge",
    "vcpuNum": 4
   },
   {
    "_defaultOrder": 14,
    "_isFastLaunch": false,
    "category": "General purpose",
    "gpuNum": 0,
    "hideHardwareSpecs": false,
    "memoryGiB": 32,
    "name": "ml.m5d.2xlarge",
    "vcpuNum": 8
   },
   {
    "_defaultOrder": 15,
    "_isFastLaunch": false,
    "category": "General purpose",
    "gpuNum": 0,
    "hideHardwareSpecs": false,
    "memoryGiB": 64,
    "name": "ml.m5d.4xlarge",
    "vcpuNum": 16
   },
   {
    "_defaultOrder": 16,
    "_isFastLaunch": false,
    "category": "General purpose",
    "gpuNum": 0,
    "hideHardwareSpecs": false,
    "memoryGiB": 128,
    "name": "ml.m5d.8xlarge",
    "vcpuNum": 32
   },
   {
    "_defaultOrder": 17,
    "_isFastLaunch": false,
    "category": "General purpose",
    "gpuNum": 0,
    "hideHardwareSpecs": false,
    "memoryGiB": 192,
    "name": "ml.m5d.12xlarge",
    "vcpuNum": 48
   },
   {
    "_defaultOrder": 18,
    "_isFastLaunch": false,
    "category": "General purpose",
    "gpuNum": 0,
    "hideHardwareSpecs": false,
    "memoryGiB": 256,
    "name": "ml.m5d.16xlarge",
    "vcpuNum": 64
   },
   {
    "_defaultOrder": 19,
    "_isFastLaunch": false,
    "category": "General purpose",
    "gpuNum": 0,
    "hideHardwareSpecs": false,
    "memoryGiB": 384,
    "name": "ml.m5d.24xlarge",
    "vcpuNum": 96
   },
   {
    "_defaultOrder": 20,
    "_isFastLaunch": false,
    "category": "General purpose",
    "gpuNum": 0,
    "hideHardwareSpecs": true,
    "memoryGiB": 0,
    "name": "ml.geospatial.interactive",
    "supportedImageNames": [
     "sagemaker-geospatial-v1-0"
    ],
    "vcpuNum": 0
   },
   {
    "_defaultOrder": 21,
    "_isFastLaunch": true,
    "category": "Compute optimized",
    "gpuNum": 0,
    "hideHardwareSpecs": false,
    "memoryGiB": 4,
    "name": "ml.c5.large",
    "vcpuNum": 2
   },
   {
    "_defaultOrder": 22,
    "_isFastLaunch": false,
    "category": "Compute optimized",
    "gpuNum": 0,
    "hideHardwareSpecs": false,
    "memoryGiB": 8,
    "name": "ml.c5.xlarge",
    "vcpuNum": 4
   },
   {
    "_defaultOrder": 23,
    "_isFastLaunch": false,
    "category": "Compute optimized",
    "gpuNum": 0,
    "hideHardwareSpecs": false,
    "memoryGiB": 16,
    "name": "ml.c5.2xlarge",
    "vcpuNum": 8
   },
   {
    "_defaultOrder": 24,
    "_isFastLaunch": false,
    "category": "Compute optimized",
    "gpuNum": 0,
    "hideHardwareSpecs": false,
    "memoryGiB": 32,
    "name": "ml.c5.4xlarge",
    "vcpuNum": 16
   },
   {
    "_defaultOrder": 25,
    "_isFastLaunch": false,
    "category": "Compute optimized",
    "gpuNum": 0,
    "hideHardwareSpecs": false,
    "memoryGiB": 72,
    "name": "ml.c5.9xlarge",
    "vcpuNum": 36
   },
   {
    "_defaultOrder": 26,
    "_isFastLaunch": false,
    "category": "Compute optimized",
    "gpuNum": 0,
    "hideHardwareSpecs": false,
    "memoryGiB": 96,
    "name": "ml.c5.12xlarge",
    "vcpuNum": 48
   },
   {
    "_defaultOrder": 27,
    "_isFastLaunch": false,
    "category": "Compute optimized",
    "gpuNum": 0,
    "hideHardwareSpecs": false,
    "memoryGiB": 144,
    "name": "ml.c5.18xlarge",
    "vcpuNum": 72
   },
   {
    "_defaultOrder": 28,
    "_isFastLaunch": false,
    "category": "Compute optimized",
    "gpuNum": 0,
    "hideHardwareSpecs": false,
    "memoryGiB": 192,
    "name": "ml.c5.24xlarge",
    "vcpuNum": 96
   },
   {
    "_defaultOrder": 29,
    "_isFastLaunch": true,
    "category": "Accelerated computing",
    "gpuNum": 1,
    "hideHardwareSpecs": false,
    "memoryGiB": 16,
    "name": "ml.g4dn.xlarge",
    "vcpuNum": 4
   },
   {
    "_defaultOrder": 30,
    "_isFastLaunch": false,
    "category": "Accelerated computing",
    "gpuNum": 1,
    "hideHardwareSpecs": false,
    "memoryGiB": 32,
    "name": "ml.g4dn.2xlarge",
    "vcpuNum": 8
   },
   {
    "_defaultOrder": 31,
    "_isFastLaunch": false,
    "category": "Accelerated computing",
    "gpuNum": 1,
    "hideHardwareSpecs": false,
    "memoryGiB": 64,
    "name": "ml.g4dn.4xlarge",
    "vcpuNum": 16
   },
   {
    "_defaultOrder": 32,
    "_isFastLaunch": false,
    "category": "Accelerated computing",
    "gpuNum": 1,
    "hideHardwareSpecs": false,
    "memoryGiB": 128,
    "name": "ml.g4dn.8xlarge",
    "vcpuNum": 32
   },
   {
    "_defaultOrder": 33,
    "_isFastLaunch": false,
    "category": "Accelerated computing",
    "gpuNum": 4,
    "hideHardwareSpecs": false,
    "memoryGiB": 192,
    "name": "ml.g4dn.12xlarge",
    "vcpuNum": 48
   },
   {
    "_defaultOrder": 34,
    "_isFastLaunch": false,
    "category": "Accelerated computing",
    "gpuNum": 1,
    "hideHardwareSpecs": false,
    "memoryGiB": 256,
    "name": "ml.g4dn.16xlarge",
    "vcpuNum": 64
   },
   {
    "_defaultOrder": 35,
    "_isFastLaunch": false,
    "category": "Accelerated computing",
    "gpuNum": 1,
    "hideHardwareSpecs": false,
    "memoryGiB": 61,
    "name": "ml.p3.2xlarge",
    "vcpuNum": 8
   },
   {
    "_defaultOrder": 36,
    "_isFastLaunch": false,
    "category": "Accelerated computing",
    "gpuNum": 4,
    "hideHardwareSpecs": false,
    "memoryGiB": 244,
    "name": "ml.p3.8xlarge",
    "vcpuNum": 32
   },
   {
    "_defaultOrder": 37,
    "_isFastLaunch": false,
    "category": "Accelerated computing",
    "gpuNum": 8,
    "hideHardwareSpecs": false,
    "memoryGiB": 488,
    "name": "ml.p3.16xlarge",
    "vcpuNum": 64
   },
   {
    "_defaultOrder": 38,
    "_isFastLaunch": false,
    "category": "Accelerated computing",
    "gpuNum": 8,
    "hideHardwareSpecs": false,
    "memoryGiB": 768,
    "name": "ml.p3dn.24xlarge",
    "vcpuNum": 96
   },
   {
    "_defaultOrder": 39,
    "_isFastLaunch": false,
    "category": "Memory Optimized",
    "gpuNum": 0,
    "hideHardwareSpecs": false,
    "memoryGiB": 16,
    "name": "ml.r5.large",
    "vcpuNum": 2
   },
   {
    "_defaultOrder": 40,
    "_isFastLaunch": false,
    "category": "Memory Optimized",
    "gpuNum": 0,
    "hideHardwareSpecs": false,
    "memoryGiB": 32,
    "name": "ml.r5.xlarge",
    "vcpuNum": 4
   },
   {
    "_defaultOrder": 41,
    "_isFastLaunch": false,
    "category": "Memory Optimized",
    "gpuNum": 0,
    "hideHardwareSpecs": false,
    "memoryGiB": 64,
    "name": "ml.r5.2xlarge",
    "vcpuNum": 8
   },
   {
    "_defaultOrder": 42,
    "_isFastLaunch": false,
    "category": "Memory Optimized",
    "gpuNum": 0,
    "hideHardwareSpecs": false,
    "memoryGiB": 128,
    "name": "ml.r5.4xlarge",
    "vcpuNum": 16
   },
   {
    "_defaultOrder": 43,
    "_isFastLaunch": false,
    "category": "Memory Optimized",
    "gpuNum": 0,
    "hideHardwareSpecs": false,
    "memoryGiB": 256,
    "name": "ml.r5.8xlarge",
    "vcpuNum": 32
   },
   {
    "_defaultOrder": 44,
    "_isFastLaunch": false,
    "category": "Memory Optimized",
    "gpuNum": 0,
    "hideHardwareSpecs": false,
    "memoryGiB": 384,
    "name": "ml.r5.12xlarge",
    "vcpuNum": 48
   },
   {
    "_defaultOrder": 45,
    "_isFastLaunch": false,
    "category": "Memory Optimized",
    "gpuNum": 0,
    "hideHardwareSpecs": false,
    "memoryGiB": 512,
    "name": "ml.r5.16xlarge",
    "vcpuNum": 64
   },
   {
    "_defaultOrder": 46,
    "_isFastLaunch": false,
    "category": "Memory Optimized",
    "gpuNum": 0,
    "hideHardwareSpecs": false,
    "memoryGiB": 768,
    "name": "ml.r5.24xlarge",
    "vcpuNum": 96
   },
   {
    "_defaultOrder": 47,
    "_isFastLaunch": false,
    "category": "Accelerated computing",
    "gpuNum": 1,
    "hideHardwareSpecs": false,
    "memoryGiB": 16,
    "name": "ml.g5.xlarge",
    "vcpuNum": 4
   },
   {
    "_defaultOrder": 48,
    "_isFastLaunch": false,
    "category": "Accelerated computing",
    "gpuNum": 1,
    "hideHardwareSpecs": false,
    "memoryGiB": 32,
    "name": "ml.g5.2xlarge",
    "vcpuNum": 8
   },
   {
    "_defaultOrder": 49,
    "_isFastLaunch": false,
    "category": "Accelerated computing",
    "gpuNum": 1,
    "hideHardwareSpecs": false,
    "memoryGiB": 64,
    "name": "ml.g5.4xlarge",
    "vcpuNum": 16
   },
   {
    "_defaultOrder": 50,
    "_isFastLaunch": false,
    "category": "Accelerated computing",
    "gpuNum": 1,
    "hideHardwareSpecs": false,
    "memoryGiB": 128,
    "name": "ml.g5.8xlarge",
    "vcpuNum": 32
   },
   {
    "_defaultOrder": 51,
    "_isFastLaunch": false,
    "category": "Accelerated computing",
    "gpuNum": 1,
    "hideHardwareSpecs": false,
    "memoryGiB": 256,
    "name": "ml.g5.16xlarge",
    "vcpuNum": 64
   },
   {
    "_defaultOrder": 52,
    "_isFastLaunch": false,
    "category": "Accelerated computing",
    "gpuNum": 4,
    "hideHardwareSpecs": false,
    "memoryGiB": 192,
    "name": "ml.g5.12xlarge",
    "vcpuNum": 48
   },
   {
    "_defaultOrder": 53,
    "_isFastLaunch": false,
    "category": "Accelerated computing",
    "gpuNum": 4,
    "hideHardwareSpecs": false,
    "memoryGiB": 384,
    "name": "ml.g5.24xlarge",
    "vcpuNum": 96
   },
   {
    "_defaultOrder": 54,
    "_isFastLaunch": false,
    "category": "Accelerated computing",
    "gpuNum": 8,
    "hideHardwareSpecs": false,
    "memoryGiB": 768,
    "name": "ml.g5.48xlarge",
    "vcpuNum": 192
   },
   {
    "_defaultOrder": 55,
    "_isFastLaunch": false,
    "category": "Accelerated computing",
    "gpuNum": 8,
    "hideHardwareSpecs": false,
    "memoryGiB": 1152,
    "name": "ml.p4d.24xlarge",
    "vcpuNum": 96
   },
   {
    "_defaultOrder": 56,
    "_isFastLaunch": false,
    "category": "Accelerated computing",
    "gpuNum": 8,
    "hideHardwareSpecs": false,
    "memoryGiB": 1152,
    "name": "ml.p4de.24xlarge",
    "vcpuNum": 96
   },
   {
    "_defaultOrder": 57,
    "_isFastLaunch": false,
    "category": "Accelerated computing",
    "gpuNum": 0,
    "hideHardwareSpecs": false,
    "memoryGiB": 32,
    "name": "ml.trn1.2xlarge",
    "vcpuNum": 8
   },
   {
    "_defaultOrder": 58,
    "_isFastLaunch": false,
    "category": "Accelerated computing",
    "gpuNum": 0,
    "hideHardwareSpecs": false,
    "memoryGiB": 512,
    "name": "ml.trn1.32xlarge",
    "vcpuNum": 128
   },
   {
    "_defaultOrder": 59,
    "_isFastLaunch": false,
    "category": "Accelerated computing",
    "gpuNum": 0,
    "hideHardwareSpecs": false,
    "memoryGiB": 512,
    "name": "ml.trn1n.32xlarge",
    "vcpuNum": 128
   }
  ],
  "instance_type": "ml.t3.medium",
  "kernelspec": {
   "display_name": "Python 3 (Data Science 3.0)",
   "language": "python",
   "name": "python3__SAGEMAKER_INTERNAL__arn:aws:sagemaker:us-east-1:081325390199:image/sagemaker-data-science-310-v1"
  },
  "language_info": {
   "codemirror_mode": {
    "name": "ipython",
    "version": 3
   },
   "file_extension": ".py",
   "mimetype": "text/x-python",
   "name": "python",
   "nbconvert_exporter": "python",
   "pygments_lexer": "ipython3",
   "version": "3.10.6"
  }
 },
 "nbformat": 4,
 "nbformat_minor": 5
}

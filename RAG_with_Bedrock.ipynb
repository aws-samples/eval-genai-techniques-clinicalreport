{
 "cells": [
  {
   "cell_type": "markdown",
   "id": "2bfa947e-2198-4923-b44d-44830a490b90",
   "metadata": {},
   "source": [
    "# Build a RAG-based radiology report application with Bedrock, Langchain and FAISS index\n",
    "\n",
    "This notebook explains steps requried to build a summarization application using Retrieval Augmented Generation (RAG) architecture.\n",
    "RAG combines the power of pre-trained LLMs with information retrieval - enabling more accurate and context-aware responses"
   ]
  },
  {
   "cell_type": "markdown",
   "id": "f98018ce-fbc3-48c7-9238-01a3fa5addd3",
   "metadata": {},
   "source": [
    "## Overview\n",
    "\n",
    "* Leveraged a dataset of 95,000 radiology report findings-impressions pairs as the knowledge source\n",
    "* Ingested the dataset into Langchain and generated embedding vectors with Titan Text Embedding model on Amazon Bedrock\n",
    "* Stored output vector representations in a FAISS vector store for efficient retrieval \n",
    "* Set up a pipeline using Langchain, FAISS, and Anthropic Claude v2 for prompt engineering, retrieval, and text generation\n",
    "* Modular combination of state-of-the-art AI libraries enabled rapid implementation and experimentation with latest RAG techniques"
   ]
  },
  {
   "cell_type": "code",
   "execution_count": null,
   "id": "6e0e1867-409a-43bf-bc07-83a67599216c",
   "metadata": {
    "tags": []
   },
   "outputs": [],
   "source": [
    "# !pip install faiss-cpu\n",
    "# !pip install langchain --upgrade\n",
    "# !pip install pypdf\n",
    "# !pip install regex"
   ]
  },
  {
   "cell_type": "code",
   "execution_count": null,
   "id": "d1c05900-664c-4747-a4bf-8af770dafa09",
   "metadata": {
    "tags": []
   },
   "outputs": [],
   "source": [
    "# !pip install sagemaker --upgrade"
   ]
  },
  {
   "cell_type": "code",
   "execution_count": null,
   "id": "9312ebd0-e2fb-4ded-bdb5-a125ed319b81",
   "metadata": {
    "tags": []
   },
   "outputs": [],
   "source": [
    "#!pip install boto3 --upgrade"
   ]
  },
  {
   "cell_type": "markdown",
   "id": "e3d4b94d-3d83-40aa-8a92-03435f7f4776",
   "metadata": {},
   "source": [
    "## Restart Kernel"
   ]
  },
  {
   "cell_type": "code",
   "execution_count": null,
   "id": "edd8069f-83c0-4517-aec9-f7fe28440adf",
   "metadata": {
    "tags": []
   },
   "outputs": [],
   "source": [
    "#Restart Kernel after the installs\n",
    "import IPython\n",
    "app = IPython.Application.instance()\n",
    "app.kernel.do_shutdown(True)  "
   ]
  },
  {
   "cell_type": "markdown",
   "id": "489eb77a-b0b4-4339-9eeb-e81dabcdeea2",
   "metadata": {},
   "source": [
    "## Setup depedencies"
   ]
  },
  {
   "cell_type": "code",
   "execution_count": null,
   "id": "20315fba-ef88-4a7a-b859-eb82cac80559",
   "metadata": {
    "tags": []
   },
   "outputs": [],
   "source": [
    "#Check Python version is greater than 3.8 which is required by Langchain if you want to use Langchain\n",
    "import sys\n",
    "sys.version"
   ]
  },
  {
   "cell_type": "code",
   "execution_count": null,
   "id": "474c9b4a-95ec-4879-b13e-d5363314e143",
   "metadata": {
    "tags": []
   },
   "outputs": [],
   "source": [
    "assert sys.version_info >= (3, 8)"
   ]
  },
  {
   "cell_type": "code",
   "execution_count": null,
   "id": "31be7dc4-bef3-4223-9f0d-50f5ba707a90",
   "metadata": {
    "tags": []
   },
   "outputs": [],
   "source": [
    "import langchain"
   ]
  },
  {
   "cell_type": "code",
   "execution_count": null,
   "id": "f4e6e9ec-46a2-4e25-98fd-3231c729c859",
   "metadata": {
    "tags": []
   },
   "outputs": [],
   "source": [
    "langchain.__version__"
   ]
  },
  {
   "cell_type": "code",
   "execution_count": null,
   "id": "d7ade1e6-d10e-4b39-bc34-886f61145e97",
   "metadata": {
    "tags": []
   },
   "outputs": [],
   "source": [
    "import os, json\n",
    "from tqdm import tqdm\n",
    "from langchain.document_loaders import PyPDFLoader\n",
    "from langchain.text_splitter import RecursiveCharacterTextSplitter,CharacterTextSplitter,NLTKTextSplitter\n",
    "import pathlib "
   ]
  },
  {
   "cell_type": "markdown",
   "id": "8df427bc-eebe-4412-a135-a874fb042947",
   "metadata": {},
   "source": [
    "## Perform document pre-processing\n",
    "Load the documents, perform clean-up of the text before generating embeddings"
   ]
  },
  {
   "cell_type": "code",
   "execution_count": null,
   "id": "4e11839f-a854-4fc5-9259-cb8abfe7b81e",
   "metadata": {
    "tags": []
   },
   "outputs": [],
   "source": [
    "import pandas as pd\n",
    "train_df = pd.read_csv('train.csv')"
   ]
  },
  {
   "cell_type": "code",
   "execution_count": null,
   "id": "ce9b0f26-8b88-41d8-9a70-9e0b2763fbd1",
   "metadata": {
    "tags": []
   },
   "outputs": [],
   "source": [
    "#combine the study_id, findings, and impressions from the knowledge source into one text. This will represnet the \"page_content\" using langchain document loader\n",
    "train_df['text'] = train_df['study_id'].astype(str) + \" Findings: \" +  train_df['findings'] + \" Impressions: \" + train_df['impression']"
   ]
  },
  {
   "cell_type": "code",
   "execution_count": null,
   "id": "631289a3-b475-432c-8ad2-d08b9b6417d9",
   "metadata": {
    "tags": []
   },
   "outputs": [],
   "source": [
    "#train_df = train_df[['text']].sample(5000)\n",
    "train_df = train_df[['text']]"
   ]
  },
  {
   "cell_type": "code",
   "execution_count": null,
   "id": "f18c1f25-eafd-48ca-8915-2c9e359721b2",
   "metadata": {
    "tags": []
   },
   "outputs": [],
   "source": [
    "from langchain_community.document_loaders import DataFrameLoader\n",
    "loader = DataFrameLoader(train_df)\n",
    "data = loader.load()"
   ]
  },
  {
   "cell_type": "code",
   "execution_count": null,
   "id": "832b2aa1-e62a-42e0-bcf3-9ce2abf10ed2",
   "metadata": {
    "tags": []
   },
   "outputs": [],
   "source": [
    "data[100].page_content"
   ]
  },
  {
   "cell_type": "code",
   "execution_count": null,
   "id": "368feba4-0ec0-4cda-8717-a782bdd48a25",
   "metadata": {
    "tags": []
   },
   "outputs": [],
   "source": [
    "data[100]"
   ]
  },
  {
   "cell_type": "markdown",
   "id": "7ae50b01-0f7f-41fa-b3fa-3ecc630d5747",
   "metadata": {},
   "source": [
    "## Generate Embeddings\n",
    "Use an embeddings model to generate embeddings of the cleaned-up doc"
   ]
  },
  {
   "cell_type": "code",
   "execution_count": null,
   "id": "3016e584-0613-4092-9291-0df2d44e351a",
   "metadata": {
    "tags": []
   },
   "outputs": [],
   "source": [
    "import boto3\n",
    "bedrock = boto3.client('bedrock' , 'us-east-1', endpoint_url='https://bedrock.us-east-1.amazonaws.com')\n",
    "bedrock.list_foundation_models() "
   ]
  },
  {
   "cell_type": "code",
   "execution_count": null,
   "id": "cb7b13d0-347e-4819-80c3-5e0f3a6bf752",
   "metadata": {
    "tags": []
   },
   "outputs": [],
   "source": [
    "import boto3\n",
    "import sagemaker\n",
    "session = boto3.Session()\n",
    "sagemaker_session = sagemaker.Session()\n",
    "studio_region = sagemaker_session.boto_region_name \n",
    "bedrock = session.client(\"bedrock-runtime\", region_name=studio_region)\n",
    "\n",
    "from langchain.embeddings import BedrockEmbeddings\n",
    "emb = BedrockEmbeddings(region_name =\"us-east-1\",model_id = \"amazon.titan-embed-g1-text-02\") #amazon.titan-embed-text-v1\n",
    "emb.model_kwargs = {}"
   ]
  },
  {
   "cell_type": "code",
   "execution_count": null,
   "id": "d6190919-4590-4201-b732-a3a6adf65475",
   "metadata": {
    "tags": []
   },
   "outputs": [],
   "source": [
    "import boto3\n",
    "import requests\n",
    "from botocore.auth import SigV4Auth\n",
    "from botocore.awsrequest import AWSRequest\n",
    "\n",
    "def sign_request(req, service, region):\n",
    "    session = boto3.Session()\n",
    "    credentials = session.get_credentials().get_frozen_credentials()\n",
    "    # Convert requests.PreparedRequest to AWSRequest\n",
    "    aws_req = AWSRequest(\n",
    "        method=req.method,\n",
    "        url=req.url,\n",
    "        data=req.body,\n",
    "        headers=req.headers\n",
    "    )\n",
    "    # Sign the AWSRequest with SigV4Auth\n",
    "    SigV4Auth(credentials, service, region).add_auth(aws_req)\n",
    "    # Update the original requests.PreparedRequest with the signed headers\n",
    "    req.headers.update(aws_req.headers)\n",
    "    return req\n",
    "\n",
    "# Create a request using the requests library\n",
    "region = 'us-east-1'\n",
    "service = \"bedrock\"\n",
    "model_id = 'amazon.titan-embed-g1-text-02'\n",
    "url = f\"https://{service}.{region}.amazonaws.com/foundation-model-entitlement\"\n",
    "req = requests.Request('POST', url, json={'modelId': model_id})\n",
    "prepared_req = req.prepare()\n",
    "# Sign the request\n",
    "sign_request(prepared_req, service, region)\n",
    "# Send the request\n",
    "session = requests.Session()\n",
    "response = session.send(prepared_req)\n",
    "print(f\"Attaining Foundation Model Entitlement Status: {response.status_code}, Response: {response.json()}\")"
   ]
  },
  {
   "cell_type": "markdown",
   "id": "35d6a4c9-cd67-45a1-9d3c-1ace18e26cf9",
   "metadata": {},
   "source": [
    "## Setup local Vector store - FAISS "
   ]
  },
  {
   "cell_type": "code",
   "execution_count": null,
   "id": "8dc43db5-2a05-44fc-a629-c0609011d1d2",
   "metadata": {
    "tags": []
   },
   "outputs": [],
   "source": [
    "from langchain.vectorstores import FAISS\n",
    "import pathlib "
   ]
  },
  {
   "cell_type": "code",
   "execution_count": null,
   "id": "eea489f2-7133-4037-b81b-8a36b36da3e1",
   "metadata": {
    "tags": []
   },
   "outputs": [],
   "source": [
    "print(\"Embed and create vector index\")\n",
    "db = FAISS.from_documents(data, embedding=emb)"
   ]
  },
  {
   "cell_type": "markdown",
   "id": "e6cbdb61-8740-422f-adff-443dcfaa1f90",
   "metadata": {},
   "source": [
    "### Save the indices locally as a file"
   ]
  },
  {
   "cell_type": "code",
   "execution_count": null,
   "id": "100af08f-89cb-43f6-a0a3-a3a69d64864a",
   "metadata": {
    "tags": []
   },
   "outputs": [],
   "source": [
    "index_path = 'faiss_indices'"
   ]
  },
  {
   "cell_type": "code",
   "execution_count": null,
   "id": "ad4b2624-cdc1-4e76-ae39-22a5f5aebacc",
   "metadata": {
    "tags": []
   },
   "outputs": [],
   "source": [
    "index_name = 'reports'"
   ]
  },
  {
   "cell_type": "code",
   "execution_count": null,
   "id": "9e82059e-6097-4da6-b0c1-1e75ba8113f7",
   "metadata": {
    "tags": []
   },
   "outputs": [],
   "source": [
    "print('Save the index created locally')\n",
    "pathlib.Path(index_path).mkdir(parents=True, exist_ok=True)\n",
    "db.save_local(folder_path=index_path, index_name= index_name)"
   ]
  },
  {
   "cell_type": "markdown",
   "id": "3ac2aded-5d4c-4ba6-ba57-90055270edbe",
   "metadata": {},
   "source": [
    "### Load from local file cache"
   ]
  },
  {
   "cell_type": "code",
   "execution_count": null,
   "id": "59c8cff3-ecdc-4ff8-8f12-3994d8697eab",
   "metadata": {
    "tags": []
   },
   "outputs": [],
   "source": [
    "emb"
   ]
  },
  {
   "cell_type": "code",
   "execution_count": null,
   "id": "c15d13a5-395b-4b54-ac9d-ea23b8ec5f97",
   "metadata": {
    "tags": []
   },
   "outputs": [],
   "source": [
    "%%time\n",
    "#Check if load local works properly\n",
    "db_local = FAISS.load_local(folder_path=index_path, embeddings=emb, index_name=index_name)"
   ]
  },
  {
   "cell_type": "markdown",
   "id": "3f500810-861e-4cca-b0cf-ea87fc878118",
   "metadata": {},
   "source": [
    "### Perform a similarity search and get top 3 matching docs"
   ]
  },
  {
   "cell_type": "code",
   "execution_count": null,
   "id": "3b8ad536-5497-4930-a2b2-faaa91a769a6",
   "metadata": {
    "tags": []
   },
   "outputs": [],
   "source": [
    "query = \"<PUT SAMPLE RADIOLOGY REPORT IMPRESSION HERE>\"\n",
    "docs = db_local.similarity_search(query, k=3)\n",
    "docs"
   ]
  },
  {
   "cell_type": "markdown",
   "id": "e6884175-f9d0-4ed5-8cf2-1f4c19508eec",
   "metadata": {},
   "source": [
    "## Access LLM with the context from vector store"
   ]
  },
  {
   "cell_type": "code",
   "execution_count": null,
   "id": "9a861591-c5f9-409d-a143-82baf445848f",
   "metadata": {
    "tags": []
   },
   "outputs": [],
   "source": [
    "from langchain.llms.bedrock import Bedrock\n",
    "\n",
    "#Creating Anthropic Claude\n",
    "model_args= {'max_tokens_to_sample':200,'temperature':0}\n",
    "llm = Bedrock(model_id=\"anthropic.claude-v2\", client=bedrock, model_kwargs=model_args)"
   ]
  },
  {
   "cell_type": "markdown",
   "id": "78ef8bec-abf8-4e9f-b9e5-15312fbea28b",
   "metadata": {
    "tags": []
   },
   "source": [
    "### Query 1"
   ]
  },
  {
   "cell_type": "code",
   "execution_count": null,
   "id": "ccc86aa6-62b7-417d-abf4-18b5b355c439",
   "metadata": {
    "tags": []
   },
   "outputs": [],
   "source": [
    "from langchain.chains import RetrievalQA\n",
    "from langchain.prompts import PromptTemplate"
   ]
  },
  {
   "cell_type": "code",
   "execution_count": null,
   "id": "59c2092c-b00d-43ae-9e95-704aa76b07d2",
   "metadata": {
    "tags": []
   },
   "outputs": [],
   "source": [
    "query = \"<PUT SAMPLE RADIOLOGY REPORT IMPRESSION HERE>\"\n",
    "print(query)"
   ]
  },
  {
   "cell_type": "code",
   "execution_count": null,
   "id": "78615a66-0a28-4478-be92-b99688470dd4",
   "metadata": {
    "tags": []
   },
   "outputs": [],
   "source": [
    "from langchain.chains import RetrievalQA\n",
    "from langchain.prompts import PromptTemplate\n",
    "\n",
    "prompt_template = \"\"\"Human: Generate radiology report impressions based on the following findings. Return only a single impression and do not return the findings given. Findings: {context}\n",
    "\n",
    "Question: {question}\n",
    "Assistant:\"\"\"\n",
    "PROMPT = PromptTemplate(\n",
    "    template=prompt_template, input_variables=[\"context\", \"question\"]\n",
    ")\n"
   ]
  },
  {
   "cell_type": "code",
   "execution_count": null,
   "id": "37c00ace-ddd3-46c3-b43d-44efaf86bcd1",
   "metadata": {
    "tags": []
   },
   "outputs": [],
   "source": [
    "qa = RetrievalQA.from_chain_type(\n",
    "    llm=llm,\n",
    "    chain_type=\"stuff\",\n",
    "    retriever=db_local.as_retriever(\n",
    "        search_type=\"similarity\", search_kwargs={\"k\": 3}\n",
    "    ),\n",
    "    return_source_documents=True,\n",
    "    chain_type_kwargs={\"prompt\": PROMPT}\n",
    ")\n",
    "\n",
    "response = qa({'query':query})\n",
    "print(response['result'])"
   ]
  },
  {
   "cell_type": "code",
   "execution_count": null,
   "id": "d9cb6325-ec79-4b94-a591-f8358106c304",
   "metadata": {
    "tags": []
   },
   "outputs": [],
   "source": [
    "response['source_documents']"
   ]
  },
  {
   "cell_type": "markdown",
   "id": "82784f11-2190-4450-9fd3-d4668bdac155",
   "metadata": {},
   "source": [
    "## Model Evaluation\n",
    "\n",
    "### Dev 1"
   ]
  },
  {
   "cell_type": "code",
   "execution_count": null,
   "id": "07581e10-5526-4fe6-a249-ea92ac6af399",
   "metadata": {
    "tags": []
   },
   "outputs": [],
   "source": [
    "dev1 = pd.read_csv('dev1.csv')"
   ]
  },
  {
   "cell_type": "code",
   "execution_count": null,
   "id": "a06f372e-2ef6-4d98-84ad-4ba18c526e87",
   "metadata": {
    "tags": []
   },
   "outputs": [],
   "source": [
    "dev1.head()"
   ]
  },
  {
   "cell_type": "code",
   "execution_count": null,
   "id": "8282708a-9a3f-446f-aa4d-e39eadf66bb5",
   "metadata": {
    "tags": []
   },
   "outputs": [],
   "source": [
    "#dev1.iloc[:10,2].to_list()"
   ]
  },
  {
   "cell_type": "code",
   "execution_count": null,
   "id": "205b4f2e-9a64-4fca-828a-b28fda8cad9e",
   "metadata": {
    "tags": []
   },
   "outputs": [],
   "source": [
    "query_list_dev1 = dev1.iloc[:,2].to_list()"
   ]
  },
  {
   "cell_type": "code",
   "execution_count": null,
   "id": "fd8cec8c-b67e-46e5-8665-ae5131fa67f0",
   "metadata": {
    "tags": []
   },
   "outputs": [],
   "source": [
    "len(query_list_dev1)"
   ]
  },
  {
   "cell_type": "code",
   "execution_count": null,
   "id": "580b754b-7f88-4492-bb9c-c2ce07df6ac7",
   "metadata": {
    "tags": []
   },
   "outputs": [],
   "source": [
    "def generate_reports(query_list):\n",
    "    results = []\n",
    "    for query in query_list:\n",
    "        prompt_template = \"\"\"\n",
    "        Human: Generate radiology report impressions based on the following findings. Return only a single impression and do not return the findings given. Findings: {context}\n",
    "        {question}\n",
    "        Assistant:\"\"\"\n",
    "        PROMPT = PromptTemplate(\n",
    "            template=prompt_template, input_variables=[\"context\", \"question\"]\n",
    "        )\n",
    "        qa = RetrievalQA.from_chain_type(\n",
    "            llm=llm,\n",
    "            chain_type=\"stuff\",\n",
    "            retriever=db_local.as_retriever(\n",
    "                search_type=\"similarity\", search_kwargs={\"k\": 3}\n",
    "            ),\n",
    "            return_source_documents=True,\n",
    "            chain_type_kwargs={\"prompt\": PROMPT}\n",
    "        )\n",
    "        response = qa({'query':query})\n",
    "        results.append(response['result'])\n",
    "    return results"
   ]
  },
  {
   "cell_type": "code",
   "execution_count": null,
   "id": "f603d905-4b33-4d40-a95b-3cfd956915a6",
   "metadata": {
    "tags": []
   },
   "outputs": [],
   "source": [
    "result_list_dev1 = generate_reports(query_list_dev1)"
   ]
  },
  {
   "cell_type": "code",
   "execution_count": null,
   "id": "97ac208e-e22e-4461-8662-03c2f97064b0",
   "metadata": {},
   "outputs": [],
   "source": [
    "len(result_list_dev1)"
   ]
  },
  {
   "cell_type": "code",
   "execution_count": null,
   "id": "2bc1cbf5-0186-4431-b3cd-4c4eadb99d51",
   "metadata": {},
   "outputs": [],
   "source": [
    "dev1['rag_claude2_impressions'] = result_list_dev1"
   ]
  },
  {
   "cell_type": "code",
   "execution_count": null,
   "id": "b2bd5068-9fb3-422a-bb46-a64dd7a7c252",
   "metadata": {
    "tags": []
   },
   "outputs": [],
   "source": [
    "dev1['rag_claude2_impressions'] = dev1['rag_claude2_impressions'].str.replace('Impressions:', '')"
   ]
  },
  {
   "cell_type": "code",
   "execution_count": null,
   "id": "488b559e-5144-4924-8107-7d6e936b98c5",
   "metadata": {
    "tags": []
   },
   "outputs": [],
   "source": [
    "dev1"
   ]
  },
  {
   "cell_type": "code",
   "execution_count": null,
   "id": "68ff79b4-adb6-41eb-9060-d0d42cb08e02",
   "metadata": {
    "tags": []
   },
   "outputs": [],
   "source": [
    "# !pip install evaluate\n",
    "# !pip install rouge_score"
   ]
  },
  {
   "cell_type": "code",
   "execution_count": null,
   "id": "b545ea0f-4def-4076-aaa8-4db0aa55fc44",
   "metadata": {
    "tags": []
   },
   "outputs": [],
   "source": [
    "import evaluate\n",
    "from rouge_score import rouge_scorer, scoring\n",
    "#from transformers import AutoTokenizer, BartTokenizer\n",
    "\n",
    "\n",
    "rouge_score = evaluate.load(\"rouge\") #\"/home/hd/hd_hd/hd_rk435/evaluate/metrics/rouge\")\n",
    "#tokenizer = BartTokenizer.from_pretrained(\"facebook/bart-large\")\n",
    "result_RAGClaude2_dev1 = rouge_score.compute(predictions=list(dev1['rag_claude2_impressions']), references=list(dev1[\"impression\"]), use_aggregator=True) #, use_stemmer=True) #, tokenizer=tokenizer)\n",
    "print(\"ROUGE Score for RAG Implentation with Titan Embedding and Claudev2 Model on Dev1 Set:\")\n",
    "print(result_RAGClaude2_dev1)"
   ]
  },
  {
   "cell_type": "code",
   "execution_count": null,
   "id": "d564a187-c85c-42ef-9b59-66371de7886b",
   "metadata": {
    "tags": []
   },
   "outputs": [],
   "source": [
    "results_RAGClaude2_dev1_all = rouge_score.compute(predictions=list(dev1['rag_claude2_impressions']), references=list(dev1[\"impression\"]), use_aggregator=False)\n",
    "results_RAGClaude2_dev1_all_df = pd.DataFrame(results_RAGClaude2_dev1_all)\n",
    "results_RAGClaude2_dev1_all_df.plot(kind='box', color = 'red')"
   ]
  },
  {
   "cell_type": "code",
   "execution_count": null,
   "id": "50651f2e-b8ba-44d6-9c04-ecb97ba94237",
   "metadata": {
    "tags": []
   },
   "outputs": [],
   "source": [
    "dev1.to_csv(\"RAG_results/dev1_rag.csv\", index = False)"
   ]
  },
  {
   "cell_type": "markdown",
   "id": "2c7caefd-be33-4508-a907-fe1154044dda",
   "metadata": {},
   "source": [
    "### Dev 2"
   ]
  },
  {
   "cell_type": "code",
   "execution_count": null,
   "id": "3ba651b9-98d3-4e07-8883-80be98ecea23",
   "metadata": {
    "tags": []
   },
   "outputs": [],
   "source": [
    "dev2 = pd.read_csv('dev2.csv')"
   ]
  },
  {
   "cell_type": "code",
   "execution_count": null,
   "id": "246f92d1-5801-4911-9be8-df1376afd208",
   "metadata": {
    "tags": []
   },
   "outputs": [],
   "source": [
    "dev2.head()"
   ]
  },
  {
   "cell_type": "code",
   "execution_count": null,
   "id": "671af745-e12b-4fd8-96f1-f4e19aa460b3",
   "metadata": {
    "tags": []
   },
   "outputs": [],
   "source": [
    "query_list_dev2 = dev2.iloc[:,2].to_list()"
   ]
  },
  {
   "cell_type": "code",
   "execution_count": null,
   "id": "f92c5377-7b64-421f-8413-97738caae672",
   "metadata": {
    "tags": []
   },
   "outputs": [],
   "source": [
    "result_list_dev2 = generate_reports(query_list_dev2)"
   ]
  },
  {
   "cell_type": "code",
   "execution_count": null,
   "id": "77633650-32d8-4dd3-8184-9fa6a5427fb7",
   "metadata": {
    "tags": []
   },
   "outputs": [],
   "source": [
    "len(result_list_dev2)\n",
    "dev2['rag_claude2_impressions'] = result_list_dev2"
   ]
  },
  {
   "cell_type": "code",
   "execution_count": null,
   "id": "8abf805f-51ab-4a2f-b897-b39db1f6be80",
   "metadata": {
    "tags": []
   },
   "outputs": [],
   "source": [
    "dev2['rag_claude2_impressions'] = dev2['rag_claude2_impressions'].str.replace('Impressions:', '')"
   ]
  },
  {
   "cell_type": "code",
   "execution_count": null,
   "id": "5cf8999a-ea8b-43e8-a5ef-7f28281065aa",
   "metadata": {},
   "outputs": [],
   "source": [
    "import pandas as pd\n",
    "dev2 = pd.read_csv(\"RAG_results/dev2_rag.csv\")"
   ]
  },
  {
   "cell_type": "code",
   "execution_count": null,
   "id": "b21d5f53-acd1-4539-922e-d3eea3aa133f",
   "metadata": {
    "tags": []
   },
   "outputs": [],
   "source": [
    "import evaluate\n",
    "from rouge_score import rouge_scorer, scoring\n",
    "#from transformers import AutoTokenizer, BartTokenizer\n",
    "\n",
    "rouge_score = evaluate.load(\"rouge\") #\"/home/hd/hd_hd/hd_rk435/evaluate/metrics/rouge\")\n",
    "#tokenizer = BartTokenizer.from_pretrained(\"facebook/bart-large\")\n",
    "result_RAGClaude2_dev2 = rouge_score.compute(predictions=list(dev2['rag_claude2_impressions']), references=list(dev2[\"impression\"]), use_aggregator=True) #, use_stemmer=True) #, tokenizer=tokenizer)\n",
    "print(\"ROUGE Score for RAG Implentation with Titan Embedding and Claudev2 Model on Dev2 Set:\")\n",
    "print(result_RAGClaude2_dev2)"
   ]
  },
  {
   "cell_type": "code",
   "execution_count": null,
   "id": "8276cc27-dd8e-4f44-8e87-51b833bef731",
   "metadata": {
    "tags": []
   },
   "outputs": [],
   "source": [
    "results_RAGClaude2_dev2_all = rouge_score.compute(predictions=list(dev2['rag_claude2_impressions']), references=list(dev2[\"impression\"]), use_aggregator=False)\n",
    "results_RAGClaude2_dev2_all_df = pd.DataFrame(results_RAGClaude2_dev2_all)\n",
    "results_RAGClaude2_dev2_all_df.plot(kind='box', color = 'blue')"
   ]
  },
  {
   "cell_type": "code",
   "execution_count": null,
   "id": "82982146-9bb1-485d-b867-ee15dadf76c8",
   "metadata": {
    "tags": []
   },
   "outputs": [],
   "source": [
    "dev2.to_csv(\"RAG_results/dev2_rag.csv\", index = False)"
   ]
  },
  {
   "cell_type": "code",
   "execution_count": null,
   "id": "3cd405ae-dcbd-4083-bc4c-bd70c284cd7c",
   "metadata": {},
   "outputs": [],
   "source": []
  }
 ],
 "metadata": {
  "availableInstances": [
   {
    "_defaultOrder": 0,
    "_isFastLaunch": true,
    "category": "General purpose",
    "gpuNum": 0,
    "hideHardwareSpecs": false,
    "memoryGiB": 4,
    "name": "ml.t3.medium",
    "vcpuNum": 2
   },
   {
    "_defaultOrder": 1,
    "_isFastLaunch": false,
    "category": "General purpose",
    "gpuNum": 0,
    "hideHardwareSpecs": false,
    "memoryGiB": 8,
    "name": "ml.t3.large",
    "vcpuNum": 2
   },
   {
    "_defaultOrder": 2,
    "_isFastLaunch": false,
    "category": "General purpose",
    "gpuNum": 0,
    "hideHardwareSpecs": false,
    "memoryGiB": 16,
    "name": "ml.t3.xlarge",
    "vcpuNum": 4
   },
   {
    "_defaultOrder": 3,
    "_isFastLaunch": false,
    "category": "General purpose",
    "gpuNum": 0,
    "hideHardwareSpecs": false,
    "memoryGiB": 32,
    "name": "ml.t3.2xlarge",
    "vcpuNum": 8
   },
   {
    "_defaultOrder": 4,
    "_isFastLaunch": true,
    "category": "General purpose",
    "gpuNum": 0,
    "hideHardwareSpecs": false,
    "memoryGiB": 8,
    "name": "ml.m5.large",
    "vcpuNum": 2
   },
   {
    "_defaultOrder": 5,
    "_isFastLaunch": false,
    "category": "General purpose",
    "gpuNum": 0,
    "hideHardwareSpecs": false,
    "memoryGiB": 16,
    "name": "ml.m5.xlarge",
    "vcpuNum": 4
   },
   {
    "_defaultOrder": 6,
    "_isFastLaunch": false,
    "category": "General purpose",
    "gpuNum": 0,
    "hideHardwareSpecs": false,
    "memoryGiB": 32,
    "name": "ml.m5.2xlarge",
    "vcpuNum": 8
   },
   {
    "_defaultOrder": 7,
    "_isFastLaunch": false,
    "category": "General purpose",
    "gpuNum": 0,
    "hideHardwareSpecs": false,
    "memoryGiB": 64,
    "name": "ml.m5.4xlarge",
    "vcpuNum": 16
   },
   {
    "_defaultOrder": 8,
    "_isFastLaunch": false,
    "category": "General purpose",
    "gpuNum": 0,
    "hideHardwareSpecs": false,
    "memoryGiB": 128,
    "name": "ml.m5.8xlarge",
    "vcpuNum": 32
   },
   {
    "_defaultOrder": 9,
    "_isFastLaunch": false,
    "category": "General purpose",
    "gpuNum": 0,
    "hideHardwareSpecs": false,
    "memoryGiB": 192,
    "name": "ml.m5.12xlarge",
    "vcpuNum": 48
   },
   {
    "_defaultOrder": 10,
    "_isFastLaunch": false,
    "category": "General purpose",
    "gpuNum": 0,
    "hideHardwareSpecs": false,
    "memoryGiB": 256,
    "name": "ml.m5.16xlarge",
    "vcpuNum": 64
   },
   {
    "_defaultOrder": 11,
    "_isFastLaunch": false,
    "category": "General purpose",
    "gpuNum": 0,
    "hideHardwareSpecs": false,
    "memoryGiB": 384,
    "name": "ml.m5.24xlarge",
    "vcpuNum": 96
   },
   {
    "_defaultOrder": 12,
    "_isFastLaunch": false,
    "category": "General purpose",
    "gpuNum": 0,
    "hideHardwareSpecs": false,
    "memoryGiB": 8,
    "name": "ml.m5d.large",
    "vcpuNum": 2
   },
   {
    "_defaultOrder": 13,
    "_isFastLaunch": false,
    "category": "General purpose",
    "gpuNum": 0,
    "hideHardwareSpecs": false,
    "memoryGiB": 16,
    "name": "ml.m5d.xlarge",
    "vcpuNum": 4
   },
   {
    "_defaultOrder": 14,
    "_isFastLaunch": false,
    "category": "General purpose",
    "gpuNum": 0,
    "hideHardwareSpecs": false,
    "memoryGiB": 32,
    "name": "ml.m5d.2xlarge",
    "vcpuNum": 8
   },
   {
    "_defaultOrder": 15,
    "_isFastLaunch": false,
    "category": "General purpose",
    "gpuNum": 0,
    "hideHardwareSpecs": false,
    "memoryGiB": 64,
    "name": "ml.m5d.4xlarge",
    "vcpuNum": 16
   },
   {
    "_defaultOrder": 16,
    "_isFastLaunch": false,
    "category": "General purpose",
    "gpuNum": 0,
    "hideHardwareSpecs": false,
    "memoryGiB": 128,
    "name": "ml.m5d.8xlarge",
    "vcpuNum": 32
   },
   {
    "_defaultOrder": 17,
    "_isFastLaunch": false,
    "category": "General purpose",
    "gpuNum": 0,
    "hideHardwareSpecs": false,
    "memoryGiB": 192,
    "name": "ml.m5d.12xlarge",
    "vcpuNum": 48
   },
   {
    "_defaultOrder": 18,
    "_isFastLaunch": false,
    "category": "General purpose",
    "gpuNum": 0,
    "hideHardwareSpecs": false,
    "memoryGiB": 256,
    "name": "ml.m5d.16xlarge",
    "vcpuNum": 64
   },
   {
    "_defaultOrder": 19,
    "_isFastLaunch": false,
    "category": "General purpose",
    "gpuNum": 0,
    "hideHardwareSpecs": false,
    "memoryGiB": 384,
    "name": "ml.m5d.24xlarge",
    "vcpuNum": 96
   },
   {
    "_defaultOrder": 20,
    "_isFastLaunch": false,
    "category": "General purpose",
    "gpuNum": 0,
    "hideHardwareSpecs": true,
    "memoryGiB": 0,
    "name": "ml.geospatial.interactive",
    "supportedImageNames": [
     "sagemaker-geospatial-v1-0"
    ],
    "vcpuNum": 0
   },
   {
    "_defaultOrder": 21,
    "_isFastLaunch": true,
    "category": "Compute optimized",
    "gpuNum": 0,
    "hideHardwareSpecs": false,
    "memoryGiB": 4,
    "name": "ml.c5.large",
    "vcpuNum": 2
   },
   {
    "_defaultOrder": 22,
    "_isFastLaunch": false,
    "category": "Compute optimized",
    "gpuNum": 0,
    "hideHardwareSpecs": false,
    "memoryGiB": 8,
    "name": "ml.c5.xlarge",
    "vcpuNum": 4
   },
   {
    "_defaultOrder": 23,
    "_isFastLaunch": false,
    "category": "Compute optimized",
    "gpuNum": 0,
    "hideHardwareSpecs": false,
    "memoryGiB": 16,
    "name": "ml.c5.2xlarge",
    "vcpuNum": 8
   },
   {
    "_defaultOrder": 24,
    "_isFastLaunch": false,
    "category": "Compute optimized",
    "gpuNum": 0,
    "hideHardwareSpecs": false,
    "memoryGiB": 32,
    "name": "ml.c5.4xlarge",
    "vcpuNum": 16
   },
   {
    "_defaultOrder": 25,
    "_isFastLaunch": false,
    "category": "Compute optimized",
    "gpuNum": 0,
    "hideHardwareSpecs": false,
    "memoryGiB": 72,
    "name": "ml.c5.9xlarge",
    "vcpuNum": 36
   },
   {
    "_defaultOrder": 26,
    "_isFastLaunch": false,
    "category": "Compute optimized",
    "gpuNum": 0,
    "hideHardwareSpecs": false,
    "memoryGiB": 96,
    "name": "ml.c5.12xlarge",
    "vcpuNum": 48
   },
   {
    "_defaultOrder": 27,
    "_isFastLaunch": false,
    "category": "Compute optimized",
    "gpuNum": 0,
    "hideHardwareSpecs": false,
    "memoryGiB": 144,
    "name": "ml.c5.18xlarge",
    "vcpuNum": 72
   },
   {
    "_defaultOrder": 28,
    "_isFastLaunch": false,
    "category": "Compute optimized",
    "gpuNum": 0,
    "hideHardwareSpecs": false,
    "memoryGiB": 192,
    "name": "ml.c5.24xlarge",
    "vcpuNum": 96
   },
   {
    "_defaultOrder": 29,
    "_isFastLaunch": true,
    "category": "Accelerated computing",
    "gpuNum": 1,
    "hideHardwareSpecs": false,
    "memoryGiB": 16,
    "name": "ml.g4dn.xlarge",
    "vcpuNum": 4
   },
   {
    "_defaultOrder": 30,
    "_isFastLaunch": false,
    "category": "Accelerated computing",
    "gpuNum": 1,
    "hideHardwareSpecs": false,
    "memoryGiB": 32,
    "name": "ml.g4dn.2xlarge",
    "vcpuNum": 8
   },
   {
    "_defaultOrder": 31,
    "_isFastLaunch": false,
    "category": "Accelerated computing",
    "gpuNum": 1,
    "hideHardwareSpecs": false,
    "memoryGiB": 64,
    "name": "ml.g4dn.4xlarge",
    "vcpuNum": 16
   },
   {
    "_defaultOrder": 32,
    "_isFastLaunch": false,
    "category": "Accelerated computing",
    "gpuNum": 1,
    "hideHardwareSpecs": false,
    "memoryGiB": 128,
    "name": "ml.g4dn.8xlarge",
    "vcpuNum": 32
   },
   {
    "_defaultOrder": 33,
    "_isFastLaunch": false,
    "category": "Accelerated computing",
    "gpuNum": 4,
    "hideHardwareSpecs": false,
    "memoryGiB": 192,
    "name": "ml.g4dn.12xlarge",
    "vcpuNum": 48
   },
   {
    "_defaultOrder": 34,
    "_isFastLaunch": false,
    "category": "Accelerated computing",
    "gpuNum": 1,
    "hideHardwareSpecs": false,
    "memoryGiB": 256,
    "name": "ml.g4dn.16xlarge",
    "vcpuNum": 64
   },
   {
    "_defaultOrder": 35,
    "_isFastLaunch": false,
    "category": "Accelerated computing",
    "gpuNum": 1,
    "hideHardwareSpecs": false,
    "memoryGiB": 61,
    "name": "ml.p3.2xlarge",
    "vcpuNum": 8
   },
   {
    "_defaultOrder": 36,
    "_isFastLaunch": false,
    "category": "Accelerated computing",
    "gpuNum": 4,
    "hideHardwareSpecs": false,
    "memoryGiB": 244,
    "name": "ml.p3.8xlarge",
    "vcpuNum": 32
   },
   {
    "_defaultOrder": 37,
    "_isFastLaunch": false,
    "category": "Accelerated computing",
    "gpuNum": 8,
    "hideHardwareSpecs": false,
    "memoryGiB": 488,
    "name": "ml.p3.16xlarge",
    "vcpuNum": 64
   },
   {
    "_defaultOrder": 38,
    "_isFastLaunch": false,
    "category": "Accelerated computing",
    "gpuNum": 8,
    "hideHardwareSpecs": false,
    "memoryGiB": 768,
    "name": "ml.p3dn.24xlarge",
    "vcpuNum": 96
   },
   {
    "_defaultOrder": 39,
    "_isFastLaunch": false,
    "category": "Memory Optimized",
    "gpuNum": 0,
    "hideHardwareSpecs": false,
    "memoryGiB": 16,
    "name": "ml.r5.large",
    "vcpuNum": 2
   },
   {
    "_defaultOrder": 40,
    "_isFastLaunch": false,
    "category": "Memory Optimized",
    "gpuNum": 0,
    "hideHardwareSpecs": false,
    "memoryGiB": 32,
    "name": "ml.r5.xlarge",
    "vcpuNum": 4
   },
   {
    "_defaultOrder": 41,
    "_isFastLaunch": false,
    "category": "Memory Optimized",
    "gpuNum": 0,
    "hideHardwareSpecs": false,
    "memoryGiB": 64,
    "name": "ml.r5.2xlarge",
    "vcpuNum": 8
   },
   {
    "_defaultOrder": 42,
    "_isFastLaunch": false,
    "category": "Memory Optimized",
    "gpuNum": 0,
    "hideHardwareSpecs": false,
    "memoryGiB": 128,
    "name": "ml.r5.4xlarge",
    "vcpuNum": 16
   },
   {
    "_defaultOrder": 43,
    "_isFastLaunch": false,
    "category": "Memory Optimized",
    "gpuNum": 0,
    "hideHardwareSpecs": false,
    "memoryGiB": 256,
    "name": "ml.r5.8xlarge",
    "vcpuNum": 32
   },
   {
    "_defaultOrder": 44,
    "_isFastLaunch": false,
    "category": "Memory Optimized",
    "gpuNum": 0,
    "hideHardwareSpecs": false,
    "memoryGiB": 384,
    "name": "ml.r5.12xlarge",
    "vcpuNum": 48
   },
   {
    "_defaultOrder": 45,
    "_isFastLaunch": false,
    "category": "Memory Optimized",
    "gpuNum": 0,
    "hideHardwareSpecs": false,
    "memoryGiB": 512,
    "name": "ml.r5.16xlarge",
    "vcpuNum": 64
   },
   {
    "_defaultOrder": 46,
    "_isFastLaunch": false,
    "category": "Memory Optimized",
    "gpuNum": 0,
    "hideHardwareSpecs": false,
    "memoryGiB": 768,
    "name": "ml.r5.24xlarge",
    "vcpuNum": 96
   },
   {
    "_defaultOrder": 47,
    "_isFastLaunch": false,
    "category": "Accelerated computing",
    "gpuNum": 1,
    "hideHardwareSpecs": false,
    "memoryGiB": 16,
    "name": "ml.g5.xlarge",
    "vcpuNum": 4
   },
   {
    "_defaultOrder": 48,
    "_isFastLaunch": false,
    "category": "Accelerated computing",
    "gpuNum": 1,
    "hideHardwareSpecs": false,
    "memoryGiB": 32,
    "name": "ml.g5.2xlarge",
    "vcpuNum": 8
   },
   {
    "_defaultOrder": 49,
    "_isFastLaunch": false,
    "category": "Accelerated computing",
    "gpuNum": 1,
    "hideHardwareSpecs": false,
    "memoryGiB": 64,
    "name": "ml.g5.4xlarge",
    "vcpuNum": 16
   },
   {
    "_defaultOrder": 50,
    "_isFastLaunch": false,
    "category": "Accelerated computing",
    "gpuNum": 1,
    "hideHardwareSpecs": false,
    "memoryGiB": 128,
    "name": "ml.g5.8xlarge",
    "vcpuNum": 32
   },
   {
    "_defaultOrder": 51,
    "_isFastLaunch": false,
    "category": "Accelerated computing",
    "gpuNum": 1,
    "hideHardwareSpecs": false,
    "memoryGiB": 256,
    "name": "ml.g5.16xlarge",
    "vcpuNum": 64
   },
   {
    "_defaultOrder": 52,
    "_isFastLaunch": false,
    "category": "Accelerated computing",
    "gpuNum": 4,
    "hideHardwareSpecs": false,
    "memoryGiB": 192,
    "name": "ml.g5.12xlarge",
    "vcpuNum": 48
   },
   {
    "_defaultOrder": 53,
    "_isFastLaunch": false,
    "category": "Accelerated computing",
    "gpuNum": 4,
    "hideHardwareSpecs": false,
    "memoryGiB": 384,
    "name": "ml.g5.24xlarge",
    "vcpuNum": 96
   },
   {
    "_defaultOrder": 54,
    "_isFastLaunch": false,
    "category": "Accelerated computing",
    "gpuNum": 8,
    "hideHardwareSpecs": false,
    "memoryGiB": 768,
    "name": "ml.g5.48xlarge",
    "vcpuNum": 192
   },
   {
    "_defaultOrder": 55,
    "_isFastLaunch": false,
    "category": "Accelerated computing",
    "gpuNum": 8,
    "hideHardwareSpecs": false,
    "memoryGiB": 1152,
    "name": "ml.p4d.24xlarge",
    "vcpuNum": 96
   },
   {
    "_defaultOrder": 56,
    "_isFastLaunch": false,
    "category": "Accelerated computing",
    "gpuNum": 8,
    "hideHardwareSpecs": false,
    "memoryGiB": 1152,
    "name": "ml.p4de.24xlarge",
    "vcpuNum": 96
   },
   {
    "_defaultOrder": 57,
    "_isFastLaunch": false,
    "category": "Accelerated computing",
    "gpuNum": 0,
    "hideHardwareSpecs": false,
    "memoryGiB": 32,
    "name": "ml.trn1.2xlarge",
    "vcpuNum": 8
   },
   {
    "_defaultOrder": 58,
    "_isFastLaunch": false,
    "category": "Accelerated computing",
    "gpuNum": 0,
    "hideHardwareSpecs": false,
    "memoryGiB": 512,
    "name": "ml.trn1.32xlarge",
    "vcpuNum": 128
   },
   {
    "_defaultOrder": 59,
    "_isFastLaunch": false,
    "category": "Accelerated computing",
    "gpuNum": 0,
    "hideHardwareSpecs": false,
    "memoryGiB": 512,
    "name": "ml.trn1n.32xlarge",
    "vcpuNum": 128
   }
  ],
  "kernelspec": {
   "display_name": "Python 3 (PyTorch 2.0.0 Python 3.10 CPU Optimized)",
   "language": "python",
   "name": "python3__SAGEMAKER_INTERNAL__arn:aws:sagemaker:us-east-1:081325390199:image/pytorch-2.0.0-cpu-py310"
  },
  "language_info": {
   "codemirror_mode": {
    "name": "ipython",
    "version": 3
   },
   "file_extension": ".py",
   "mimetype": "text/x-python",
   "name": "python",
   "nbconvert_exporter": "python",
   "pygments_lexer": "ipython3",
   "version": "3.10.8"
  }
 },
 "nbformat": 4,
 "nbformat_minor": 5
}
